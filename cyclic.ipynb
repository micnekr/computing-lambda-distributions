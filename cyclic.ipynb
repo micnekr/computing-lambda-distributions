{
 "cells": [
  {
   "cell_type": "code",
   "execution_count": 5,
   "id": "a99236bd-4a0a-4cf6-9bc7-b8a09bdf6097",
   "metadata": {},
   "outputs": [
    {
     "name": "stdout",
     "output_type": "stream",
     "text": [
      "{[2]: 1.155259553926125 + 1.523835523995313e-17*I, [1, 1]: 2.155259553926124}\n",
      "{[2]: 0.499255870820092, [1, 1]: 0.499255870820092}\n"
     ]
    }
   ],
   "source": [
    "from lib.simulation import approximate_sigma_mgf, matrix_to_eigenvalues\n",
    "\n",
    "import random\n",
    "\n",
    "random.seed(int(0))\n",
    "\n",
    "# I think there is a faster way to find eigenvalues directly in this case, but this is an example of how this should work\n",
    "def random_matrix(n):\n",
    "    index = Integer(random.randrange(0, n))\n",
    "    angle = (2 * pi * index) / n\n",
    "    return matrix([[cos(angle), -sin(angle)], [sin(angle), cos(angle)]])\n",
    "    \n",
    "# We are looking at C_n\n",
    "n = 30\n",
    "    \n",
    "expectations, stds = approximate_sigma_mgf(lambda: matrix_to_eigenvalues(random_matrix(n)), order=2, stopping_std=0.5)\n",
    "print(expectations)\n",
    "print(stds)"
   ]
  }
 ],
 "metadata": {
  "kernelspec": {
   "display_name": "SageMath 10.6",
   "language": "sage",
   "name": "sagemath"
  },
  "language_info": {
   "codemirror_mode": {
    "name": "ipython",
    "version": 3
   },
   "file_extension": ".py",
   "mimetype": "text/x-python",
   "name": "python",
   "nbconvert_exporter": "python",
   "pygments_lexer": "ipython3",
   "version": "3.12.11"
  }
 },
 "nbformat": 4,
 "nbformat_minor": 5
}
