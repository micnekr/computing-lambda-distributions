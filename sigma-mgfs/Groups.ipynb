{
 "cells": [
  {
   "cell_type": "code",
   "execution_count": 2,
   "id": "12ed81bd",
   "metadata": {},
   "outputs": [],
   "source": [
    "from sage.all import *\n",
    "import sage.groups.matrix_gps.orthogonal"
   ]
  },
  {
   "cell_type": "markdown",
   "id": "6c40fb94",
   "metadata": {},
   "source": [
    "### Creating Random Unitary Matrices"
   ]
  },
  {
   "cell_type": "markdown",
   "id": "4bb97afd",
   "metadata": {},
   "source": [
    "Sage Reference: [Unitary Group $GU(n,q)$](https://doc.sagemath.org/html/en/reference/groups/sage/groups/matrix_gps/unitary.html)\n",
    "\n",
    "\n",
    "**INPUT:**\n",
    "\n",
    "- `n` – positive integer\n",
    "\n",
    "- `R` – ring or an integer; if an integer is specified, the corresponding finite field is used\n",
    "\n",
    "- `var` – (default: 'a') variable used to represent generator of the finite field, if needed\n",
    "\n",
    "- `invariant_form` – (optional) instances being accepted by the matrix-constructor which define a square matrix over describing the hermitian form to be kept invariant by the unitary group; the form is checked to be non-degenerate and hermitian but not to be positive definite\n",
    "\n",
    "**OUTPUT:** The general unitary group"
   ]
  },
  {
   "cell_type": "markdown",
   "id": "e0c35d58",
   "metadata": {},
   "source": [
    "### Symmetric Function"
   ]
  },
  {
   "cell_type": "code",
   "execution_count": 12,
   "id": "2242cd26",
   "metadata": {},
   "outputs": [
    {
     "name": "stdout",
     "output_type": "stream",
     "text": [
      "h_2 = t1^2 + t1*t2 + t2^2 + t1*t3 + t2*t3 + t3^2\n",
      "h_3 = t1^3 + t1^2*t2 + t1*t2^2 + t2^3 + t1^2*t3 + t1*t2*t3 + t2^2*t3 + t1*t3^2 + t2*t3^2 + t3^3\n",
      "e_2 = t1*t2 + t1*t3 + t2*t3\n",
      "e_3 = t1*t2*t3\n",
      "p_2 = t1^2 + t2^2 + t3^2\n",
      "p_3 = t1^3 + t2^3 + t3^3\n"
     ]
    }
   ],
   "source": [
    "# Set up polynomial ring with variables t1, t2, t3 over Complex Field\n",
    "R = PolynomialRing(ZZ, ['t1', 't2', 't3'])\n",
    "t1, t2, t3 = R.gens()\n",
    "\n",
    "Sym = SymmetricFunctions(ZZ)\n",
    "e = Sym.e() # Elementary symmetric function\n",
    "h = Sym.h() # Complete symmetric function\n",
    "p = Sym.p() # Power sum symmetric function\n",
    "\n",
    "# Expand each symmetric function\n",
    "h2_exp = h[2].expand(3)(t1, t2, t3)\n",
    "h3_exp = h[3].expand(3)(t1, t2, t3)\n",
    "\n",
    "e2_exp = e[2].expand(3)(t1, t2, t3)\n",
    "e3_exp = e[3].expand(3)(t1, t2, t3)\n",
    "\n",
    "p2_exp = p[2].expand(3)(t1, t2, t3)\n",
    "p3_exp = p[3].expand(3)(t1, t2, t3)\n",
    "\n",
    "print(\"h_2 =\", h2_exp)\n",
    "print(\"h_3 =\", h3_exp)\n",
    "print(\"e_2 =\", e2_exp)\n",
    "print(\"e_3 =\", e3_exp)\n",
    "print(\"p_2 =\", p2_exp)\n",
    "print(\"p_3 =\", p3_exp)"
   ]
  },
  {
   "cell_type": "markdown",
   "id": "6083a396",
   "metadata": {},
   "source": [
    "### Commutative Monoid Ring"
   ]
  },
  {
   "cell_type": "code",
   "execution_count": 14,
   "id": "f4267d27",
   "metadata": {},
   "outputs": [],
   "source": [
    "# Setup: Symmetric functions and ring\n",
    "Sym = SymmetricFunctions(QQ)\n",
    "h = Sym.h()\n",
    "e = Sym.e()\n",
    "p = Sym.p()\n",
    "\n",
    "# Define a commutative monoid M\n",
    "class MonoidElement:\n",
    "    def __init__(self, label):\n",
    "        self.label = label  # could be tuple, string, integer, etc.\n",
    "\n",
    "    def __mul__(self, other):\n",
    "        # define how two elements multiply\n",
    "        return MonoidElement(f\"({self.label} * {other.label})\")\n",
    "\n",
    "    def __pow__(self, k):\n",
    "        # define m^k\n",
    "        result = self\n",
    "        for _ in range(k - 1):\n",
    "            result = result * self\n",
    "        return result\n",
    "\n",
    "    def __repr__(self):\n",
    "        return str(self.label)"
   ]
  },
  {
   "cell_type": "code",
   "execution_count": 15,
   "id": "ef44a81a",
   "metadata": {},
   "outputs": [],
   "source": [
    "# Example: a monoid with labeled elements\n",
    "m = MonoidElement('m')\n",
    "\n",
    "# R[M] element represented as dict {MonoidElement: R-coefficient}\n",
    "def monoid_ring_element(coeff, m):\n",
    "    return {m: coeff}\n",
    "\n",
    "# Plethystic action on R[M]\n",
    "def plethysm_hk_on_RM(hk, coeff, m):\n",
    "    mk = m ** hk.degree()\n",
    "    return {mk: hk.plethysm(coeff)}\n",
    "\n",
    "def plethysm_ek_on_RM(ek, coeff, m):\n",
    "    mk = m ** ek.degree()\n",
    "    return {mk: ek.plethysm(coeff)}\n",
    "\n",
    "# If R is torsion-free: implement the pk plethysm sum\n",
    "def plethysm_pk_on_function(pk, f_dict, target_m, monoid_elements):\n",
    "    k = pk.degree()\n",
    "    result = 0\n",
    "    for n in monoid_elements:\n",
    "        if n ** k == target_m:\n",
    "            result += pk.plethysm(f_dict.get(n, 0))\n",
    "    return result"
   ]
  },
  {
   "cell_type": "code",
   "execution_count": 16,
   "id": "2356b4ae",
   "metadata": {},
   "outputs": [
    {
     "name": "stdout",
     "output_type": "stream",
     "text": [
      "h_k ◦ (a[m]) = {(m * m): h[2] + 2*h[2, 1] + 3*h[2, 2] - 2*h[3, 1] + 2*h[4]}\n",
      "e_k ◦ (a[m]) = {(m * m): 2*e[1, 1, 1] + e[1, 1, 1, 1] + e[2] - 2*e[2, 1] - e[2, 2] - 2*e[3, 1] + 2*e[4]}\n",
      "(p_k ◦ f)((m * m)) = 0\n"
     ]
    }
   ],
   "source": [
    "# Example usage\n",
    "a = h[1] + 2*h[2]  # an example element in R (symmetric functions)\n",
    "hk = h[2]\n",
    "ek = e[2]\n",
    "pk = p[2]\n",
    "\n",
    "print(\"h_k ◦ (a[m]) =\", plethysm_hk_on_RM(hk, a, m))\n",
    "print(\"e_k ◦ (a[m]) =\", plethysm_ek_on_RM(ek, a, m))\n",
    "\n",
    "# For p_k action on f: assume M = {m, m2, m3}, simulate matching condition\n",
    "m2 = m ** 2\n",
    "m3 = m ** 3\n",
    "f_dict = {\n",
    "    m: a,\n",
    "    m2: h[1],\n",
    "    m3: e[1]\n",
    "}\n",
    "monoid_elements = [m, m2, m3]\n",
    "\n",
    "target = m2  # compute (p_k ◦ f)(m2)\n",
    "result = plethysm_pk_on_function(pk, f_dict, target, monoid_elements)\n",
    "print(f\"(p_k ◦ f)({target}) =\", result)\n"
   ]
  },
  {
   "cell_type": "markdown",
   "id": "aa67bdf5",
   "metadata": {},
   "source": [
    "### Computing Λ-distributions"
   ]
  },
  {
   "cell_type": "code",
   "execution_count": null,
   "id": "aa1c3623",
   "metadata": {},
   "outputs": [],
   "source": [
    "s = SymmetricFunctions(QQ).schur()\n",
    "e = SymmetricFunctions(QQ).elementary()"
   ]
  },
  {
   "cell_type": "code",
   "execution_count": null,
   "id": "9576df56",
   "metadata": {},
   "outputs": [],
   "source": [
    "f1 = s([Integer(2),Integer(1)]); f1\n",
    "f2 = e(f1); f2 \n",
    "f1 == f2\n",
    "f1.expand(Integer(3), alphabet=['x','y','z'])\n",
    "f2.expand(Integer(3), alphabet=['x','y','z'])"
   ]
  },
  {
   "cell_type": "code",
   "execution_count": null,
   "id": "66adbd6c",
   "metadata": {},
   "outputs": [],
   "source": [
    "G = GU(Integer(3), Integer(7)); G\n",
    "G.gens()\n",
    "GU(Integer(2), QQ)"
   ]
  },
  {
   "cell_type": "code",
   "execution_count": null,
   "id": "28982a5b",
   "metadata": {},
   "outputs": [],
   "source": [
    "S = SymmetricGroup(3)\n",
    "S.list()"
   ]
  },
  {
   "cell_type": "code",
   "execution_count": null,
   "id": "87b9f432",
   "metadata": {},
   "outputs": [],
   "source": [
    "Sym = SymmetricFunctions(ZZ)\n",
    "h = Sym.h()\n",
    "e = Sym.e()\n",
    "p = Sym.p()\n",
    "\n",
    "# Pre-lambda ring structure on all Integers \\mathbb{Z}\n",
    "class PreLambdaRingZZ:\n",
    "    def __init__(self):\n",
    "        self.base_ring = ZZ\n",
    "\n",
    "    def h_comp_n(self, k, n):\n",
    "        \"\"\"h_k o n = binomial(k + n - 1, n - 1)\"\"\"\n",
    "        return binomial(k + n - 1, n - 1)\n",
    "\n",
    "    def e_comp_n(self, k, n):\n",
    "        \"\"\"e_k o n = binomial(n, k)\"\"\"\n",
    "        return binomial(n, k)\n",
    "\n",
    "    def p_comp_n(self, k, n):\n",
    "        \"\"\"p_k o n = n (identity in ZZ)\"\"\"\n",
    "        return n\n",
    "\n",
    "    def verify_h_distributive_over_addition(self, k, r, s):\n",
    "        \"\"\"Verify that h_k o (r + s) = sum_{i = 0}^{k} h_{k-i}(r) * h_i(s)\"\"\"\n",
    "        left = self.h_comp_n(k, r + s)\n",
    "        right = sum(self.h_comp_n(k - i, r) * self.h_comp_n(i, s) for i in range(k + 1))\n",
    "        return left == right\n",
    "\n",
    "    def verify_h1_identity(self, r):\n",
    "        \"\"\"Check that h_1 o r = r\"\"\"\n",
    "        return self.h_comp_n(1, r) == r"
   ]
  },
  {
   "cell_type": "code",
   "execution_count": null,
   "id": "2c72fb73",
   "metadata": {},
   "outputs": [],
   "source": [
    "# Instantiate and test\n",
    "R = PreLambdaRingZZ()\n",
    "n, m = 4, 3\n",
    "\n",
    "# Verifications\n",
    "print(\"h_1(n) == n:\", R.verify_h1_identity(n))\n",
    "print(\"h_2(n + m) == sum of h_i:\", R.verify_h_distributive_over_addition(2, n, m))\n",
    "\n",
    "# Example usage\n",
    "for k in range(5):\n",
    "    print(f\"h_{k}({n}) =\", R.h_comp_n(k, n))\n",
    "    print(f\"e_{k}({n}) =\", R.e_comp_n(k, n))\n",
    "    print(f\"p_{k}({n}) =\", R.p_comp_n(k, n))"
   ]
  },
  {
   "cell_type": "markdown",
   "id": "323e4b2b",
   "metadata": {},
   "source": [
    "## Cyclic Groups (C_n)"
   ]
  },
  {
   "cell_type": "code",
   "execution_count": null,
   "id": "0903b5fb",
   "metadata": {},
   "outputs": [
    {
     "ename": "TypeError",
     "evalue": "MatrixGroup_gap.__init__() got an unexpected keyword argument 'check'",
     "output_type": "error",
     "traceback": [
      "\u001b[0;31m---------------------------------------------------------------------------\u001b[0m",
      "\u001b[0;31mTypeError\u001b[0m                                 Traceback (most recent call last)",
      "\u001b[0;32m/tmp/ipykernel_884/4100329525.py\u001b[0m in \u001b[0;36m<module>\u001b[0;34m\u001b[0m\n\u001b[1;32m     39\u001b[0m \u001b[0;32mif\u001b[0m \u001b[0m__name__\u001b[0m \u001b[0;34m==\u001b[0m \u001b[0;34m\"__main__\"\u001b[0m\u001b[0;34m:\u001b[0m\u001b[0;34m\u001b[0m\u001b[0;34m\u001b[0m\u001b[0m\n\u001b[1;32m     40\u001b[0m     \u001b[0;31m# Create the matrix representation of C₄\u001b[0m\u001b[0;34m\u001b[0m\u001b[0;34m\u001b[0m\u001b[0m\n\u001b[0;32m---> 41\u001b[0;31m     \u001b[0mC4\u001b[0m \u001b[0;34m=\u001b[0m \u001b[0mcyclic_group_matrix_representation\u001b[0m\u001b[0;34m(\u001b[0m\u001b[0mInteger\u001b[0m\u001b[0;34m(\u001b[0m\u001b[0;36m4\u001b[0m\u001b[0;34m)\u001b[0m\u001b[0;34m)\u001b[0m\u001b[0;34m\u001b[0m\u001b[0;34m\u001b[0m\u001b[0m\n\u001b[0m\u001b[1;32m     42\u001b[0m \u001b[0;34m\u001b[0m\u001b[0m\n\u001b[1;32m     43\u001b[0m     \u001b[0mprint\u001b[0m\u001b[0;34m(\u001b[0m\u001b[0;34m\"Group order:\"\u001b[0m\u001b[0;34m,\u001b[0m \u001b[0mC4\u001b[0m\u001b[0;34m.\u001b[0m\u001b[0morder\u001b[0m\u001b[0;34m(\u001b[0m\u001b[0;34m)\u001b[0m\u001b[0;34m)\u001b[0m\u001b[0;34m\u001b[0m\u001b[0;34m\u001b[0m\u001b[0m\n",
      "\u001b[0;32m/tmp/ipykernel_884/4100329525.py\u001b[0m in \u001b[0;36mcyclic_group_matrix_representation\u001b[0;34m(n)\u001b[0m\n\u001b[1;32m     34\u001b[0m \u001b[0;34m\u001b[0m\u001b[0m\n\u001b[1;32m     35\u001b[0m     \u001b[0mgenerator\u001b[0m \u001b[0;34m=\u001b[0m \u001b[0mcyclic_perm_matrix\u001b[0m\u001b[0;34m(\u001b[0m\u001b[0mn\u001b[0m\u001b[0;34m)\u001b[0m\u001b[0;34m\u001b[0m\u001b[0;34m\u001b[0m\u001b[0m\n\u001b[0;32m---> 36\u001b[0;31m     \u001b[0;32mreturn\u001b[0m \u001b[0mFinitelyGeneratedMatrixGroup_gap\u001b[0m\u001b[0;34m(\u001b[0m\u001b[0;34m[\u001b[0m\u001b[0mgenerator\u001b[0m\u001b[0;34m]\u001b[0m\u001b[0;34m,\u001b[0m \u001b[0mcheck\u001b[0m\u001b[0;34m=\u001b[0m\u001b[0;32mFalse\u001b[0m\u001b[0;34m)\u001b[0m\u001b[0;34m\u001b[0m\u001b[0;34m\u001b[0m\u001b[0m\n\u001b[0m\u001b[1;32m     37\u001b[0m \u001b[0;34m\u001b[0m\u001b[0m\n\u001b[1;32m     38\u001b[0m \u001b[0;31m# Example usage:\u001b[0m\u001b[0;34m\u001b[0m\u001b[0;34m\u001b[0m\u001b[0m\n",
      "\u001b[0;31mTypeError\u001b[0m: MatrixGroup_gap.__init__() got an unexpected keyword argument 'check'"
     ]
    }
   ],
   "source": [
    "from sage.groups.matrix_gps.finitely_generated import FinitelyGeneratedMatrixGroup_gap\n",
    "from sage.matrix.constructor import matrix\n",
    "from sage.rings.integer_ring import ZZ\n",
    "\n",
    "def cyclic_group_matrix_representation(n):\n",
    "    \"\"\"\n",
    "    Return the matrix representation of the cyclic group C_n as permutation matrices.\n",
    "    \n",
    "    INPUT:\n",
    "    - n -- positive integer, the order of the cyclic group\n",
    "    \n",
    "    OUTPUT:\n",
    "    - A matrix group isomorphic to C_n where the generator is a permutation matrix\n",
    "      that cycles the basis vectors.\n",
    "    \n",
    "    EXAMPLES:\n",
    "        sage: G = cyclic_group_matrix_representation(3)\n",
    "        sage: G.order()\n",
    "        3\n",
    "        sage: G.is_abelian()\n",
    "        True\n",
    "    \"\"\"\n",
    "    if n <= 0:\n",
    "        raise ValueError(\"n must be a positive integer\")\n",
    "    \n",
    "    # Create the generator matrix - a cyclic permutation matrix\n",
    "    def cyclic_perm_matrix(n):\n",
    "        \"\"\"Create an n×n cyclic permutation matrix\"\"\"\n",
    "        M = matrix(ZZ, n, n)\n",
    "        for i in range(n-1):\n",
    "            M[i+1, i] = 1\n",
    "        M[0, n-1] = 1\n",
    "        return M\n",
    "    \n",
    "    generator = cyclic_perm_matrix(n)\n",
    "    return FinitelyGeneratedMatrixGroup_gap([generator], check=False)"
   ]
  },
  {
   "cell_type": "code",
   "execution_count": null,
   "id": "6a2d6e40",
   "metadata": {},
   "outputs": [],
   "source": []
  },
  {
   "cell_type": "code",
   "execution_count": null,
   "id": "979f7b83",
   "metadata": {},
   "outputs": [],
   "source": []
  },
  {
   "cell_type": "code",
   "execution_count": null,
   "id": "3dc111c8",
   "metadata": {},
   "outputs": [],
   "source": []
  },
  {
   "cell_type": "code",
   "execution_count": null,
   "id": "d678a317",
   "metadata": {},
   "outputs": [],
   "source": []
  }
 ],
 "metadata": {
  "kernelspec": {
   "display_name": "SageMath 9.5",
   "language": "sage",
   "name": "sagemath-dev"
  },
  "language_info": {
   "codemirror_mode": {
    "name": "ipython",
    "version": 3
   },
   "file_extension": ".py",
   "mimetype": "text/x-python",
   "name": "python",
   "nbconvert_exporter": "python",
   "pygments_lexer": "ipython3",
   "version": "3.10.12"
  }
 },
 "nbformat": 4,
 "nbformat_minor": 5
}
