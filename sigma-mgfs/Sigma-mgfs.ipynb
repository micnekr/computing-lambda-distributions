{
 "cells": [
  {
   "cell_type": "markdown",
   "id": "726d5ed3-8ab9-4693-be4c-a0615195e159",
   "metadata": {
    "jp-MarkdownHeadingCollapsed": true
   },
   "source": [
    "# Imported Libraries"
   ]
  },
  {
   "cell_type": "code",
   "execution_count": 57,
   "id": "bb3e0c2f-74eb-4684-b081-50916b6a92d2",
   "metadata": {},
   "outputs": [],
   "source": [
    "import numpy as np\n",
    "from math import gcd, exp, pi\n",
    "import cmath\n",
    "import matplotlib.pyplot as plt\n",
    "from scipy.stats import unitary_group\n",
    "from sympy.utilities.iterables import partitions\n",
    "from sympy import symbols, expand, factorial\n",
    "from collections import defaultdict"
   ]
  },
  {
   "cell_type": "markdown",
   "id": "81238c7a-50da-42ea-8f7f-d05238aba88d",
   "metadata": {
    "jp-MarkdownHeadingCollapsed": true
   },
   "source": [
    "# Random Matrix Group Generators"
   ]
  },
  {
   "cell_type": "markdown",
   "id": "92291d1d-bcf9-4f50-95f8-32105b05bae7",
   "metadata": {
    "jp-MarkdownHeadingCollapsed": true
   },
   "source": [
    "## Random Unitary Matrices"
   ]
  },
  {
   "cell_type": "markdown",
   "id": "af6386c1-4ab4-4d60-bccd-6f94c9c49497",
   "metadata": {},
   "source": [
    "There are two ways we can create a random unitary matrix:\n",
    "1. The first method is to import the `unitary_group` function from the SciPy library. The documentation can be found [here](https://docs.scipy.org/doc/scipy/reference/generated/scipy.stats.unitary_group.html)\n",
    "2. The second method is to use either the Gram-Schmidt process or the QR decomposition. Essentially, if you create a random complex field matrix, then performing the QR decomposition would result in the unitary matrix $Q$ and the upper triangular matrix $R$ such that $A = QR$"
   ]
  },
  {
   "cell_type": "markdown",
   "id": "1c71d59b-d72f-4825-82e1-d4bb03bdf06d",
   "metadata": {},
   "source": [
    "### Method 1: `unitary_group`"
   ]
  },
  {
   "cell_type": "code",
   "execution_count": 6,
   "id": "c4bdab4f-d239-4ef4-9e9d-d9284a39bc6b",
   "metadata": {},
   "outputs": [
    {
     "data": {
      "text/plain": [
       "array([[-0.26713952-0.40867753j,  0.01151373+0.48350697j,\n",
       "        -0.15373882-0.70998026j],\n",
       "       [-0.80725296+0.11684437j, -0.50646481-0.21145205j,\n",
       "         0.177096  +0.04591836j],\n",
       "       [-0.26658154+0.15888202j,  0.68172689-0.0108774j ,\n",
       "         0.64990556-0.12823292j]])"
      ]
     },
     "execution_count": 6,
     "metadata": {},
     "output_type": "execute_result"
    }
   ],
   "source": [
    "unitary_mat = unitary_group.rvs(3)\n",
    "unitary_mat"
   ]
  },
  {
   "cell_type": "markdown",
   "id": "7af98a1c-2a86-4cbc-afc7-c531f0546ccb",
   "metadata": {},
   "source": [
    "### Method 2: QR Decomposition"
   ]
  },
  {
   "cell_type": "code",
   "execution_count": 8,
   "id": "7f7b0679-a482-4ddc-a4d6-1da66c6e1a93",
   "metadata": {},
   "outputs": [
    {
     "name": "stdout",
     "output_type": "stream",
     "text": [
      "Q*Q^† ≈ I:\n",
      " [[ 1.-0.j -0.+0.j -0.-0.j]\n",
      " [-0.-0.j  1.+0.j  0.+0.j]\n",
      " [-0.+0.j  0.+0.j  1.-0.j]]\n",
      "Unitary matrix Q:\n",
      " [[-0.89679643+0.05357511j  0.03837435-0.28535041j  0.33138398-0.01315611j]\n",
      " [ 0.01903943+0.1119897j  -0.54227129+0.22665278j  0.32052708+0.73411754j]\n",
      " [-0.19363566-0.37747439j -0.70607633+0.27042399j -0.16701116-0.46952388j]]\n"
     ]
    }
   ],
   "source": [
    "dim = 3                                                           # Define the dimension of the complex matrix\n",
    "A = np.random.randn(dim, dim) + 1j * np.random.randn(dim, dim)    # Create a square matrix where each element is in the Complex Field\n",
    "Q, R = np.linalg.qr(A)                                            # Find the QR decomposition of matrix A\n",
    "\n",
    "# Step 3: Check unitarity\n",
    "print(\"Q*Q^† ≈ I:\\n\", np.round(Q @ Q.conj().T, decimals=3))\n",
    "print(\"Unitary matrix Q:\\n\", Q)"
   ]
  },
  {
   "cell_type": "markdown",
   "id": "946db0c8-ed64-46af-9ed9-1b29a8f2e389",
   "metadata": {},
   "source": [
    "How Run Gram-Schnidt for each column"
   ]
  },
  {
   "cell_type": "markdown",
   "id": "e88c9254-2ffe-4c87-a6c0-d61472193b5b",
   "metadata": {},
   "source": [
    "### $\\sigma$-moment Generating Function"
   ]
  },
  {
   "cell_type": "code",
   "execution_count": 10,
   "id": "ac77143b-6c62-44cd-ac5b-3227747cc35c",
   "metadata": {},
   "outputs": [
    {
     "name": "stdout",
     "output_type": "stream",
     "text": [
      "Log Sigma MGF at t=0.5: (0.17264694833278596+0.4236095552300916j)\n",
      "Sigma MGF at t=0.5: (1.0834010466967812+0.4885152319013758j)\n"
     ]
    }
   ],
   "source": [
    "def random_unitary(n):\n",
    "    \"\"\"Generate a random unitary matrix using QR decomposition.\"\"\"\n",
    "    Z = np.random.randn(n, n) + 1j * np.random.randn(n, n)\n",
    "    Q, R = np.linalg.qr(Z)\n",
    "    d = np.diagonal(R)\n",
    "    ph = d / np.abs(d)\n",
    "    Q *= ph\n",
    "    return Q\n",
    "\n",
    "def sigma_mgf(U, t, k_max=20):\n",
    "    \"\"\"\n",
    "    Compute log Σ(t) = sum_{k=1}^k_max t^k / k * Tr(U^k)\n",
    "    This is the moment generating function for power sums of eigenvalues.\n",
    "    \"\"\"\n",
    "    n = U.shape[0]\n",
    "    s = 0.0\n",
    "    U_power = np.eye(n, dtype=complex)\n",
    "    for k in range(1, k_max + 1):\n",
    "        U_power = U_power @ U\n",
    "        trace = np.trace(U_power)\n",
    "        s += (t**k / k) * trace\n",
    "    return s\n",
    "\n",
    "# Example usage\n",
    "n = 4\n",
    "U = random_unitary(n)\n",
    "t = 0.5\n",
    "log_sigma = sigma_mgf(U, t)\n",
    "sigma = np.exp(log_sigma)\n",
    "\n",
    "print(f\"Log Sigma MGF at t={t}: {log_sigma}\")\n",
    "print(f\"Sigma MGF at t={t}: {sigma}\")\n"
   ]
  },
  {
   "cell_type": "markdown",
   "id": "9cd7fa4a-80ad-4893-b2e1-43bfd99dfc08",
   "metadata": {
    "jp-MarkdownHeadingCollapsed": true
   },
   "source": [
    "## Random Sympletic Matrices"
   ]
  },
  {
   "cell_type": "code",
   "execution_count": 12,
   "id": "9a0bcf89-abff-43de-acbf-13fdb958cacd",
   "metadata": {},
   "outputs": [],
   "source": [
    "def random_symplectic_matrix(dim):\n",
    "    A = np.random.randn(dim, dim)\n",
    "    B = np.random.randn(dim, dim)\n",
    "    C = -B.T\n",
    "    D = A.T\n",
    "    M = np.block([[A, B], [C, D]])\n",
    "    return M"
   ]
  },
  {
   "cell_type": "code",
   "execution_count": 13,
   "id": "879d91a4-af49-4a91-b99e-2877d44b8608",
   "metadata": {},
   "outputs": [
    {
     "name": "stdout",
     "output_type": "stream",
     "text": [
      "Symplectic matrix M:\n",
      "[[-2.324  0.632 -0.143 -1.792]\n",
      " [ 0.078  1.378 -0.293  0.326]\n",
      " [ 0.143  0.293 -2.324  0.078]\n",
      " [ 1.792 -0.326  0.632  1.378]]\n"
     ]
    }
   ],
   "source": [
    "n = 2  # for Sp(4, R)\n",
    "M = random_symplectic_matrix(n)\n",
    "\n",
    "print(\"Symplectic matrix M:\")\n",
    "print(np.round(M, 3))"
   ]
  },
  {
   "cell_type": "markdown",
   "id": "e704c90d-bb9a-456e-9eed-9e294ac68fba",
   "metadata": {},
   "source": [
    "# $\\sigma$-moment generating function for each matrix groups"
   ]
  },
  {
   "cell_type": "markdown",
   "id": "215dbc3f-d083-4532-ae31-08c01f24004f",
   "metadata": {
    "jp-MarkdownHeadingCollapsed": true
   },
   "source": [
    "## Group 1: Cyclic Groups ($C_n$)"
   ]
  },
  {
   "cell_type": "markdown",
   "id": "86298cf6-3360-4d6b-a21c-8e256cbbcc68",
   "metadata": {
    "jp-MarkdownHeadingCollapsed": true
   },
   "source": [
    "### Matrix Reperesentation"
   ]
  },
  {
   "cell_type": "code",
   "execution_count": 25,
   "id": "46ccf10b-3dbd-4943-9ea7-e9b62698d015",
   "metadata": {},
   "outputs": [],
   "source": [
    "import numpy as np\n",
    "\n",
    "class CyclicGroupMatrixRep:\n",
    "    def __init__(self, n):\n",
    "        # Check if n is a positive integer; If not, throw an error since it's not mathematically accurate.\n",
    "        if not isinstance(n, int) or n <= 0:\n",
    "            raise ValueError(\"n must be a positive integer\")\n",
    "        \n",
    "        self.n = n\n",
    "        self.generator = self._create_generator()\n",
    "        self.elements = self._generate_elements()\n",
    "    \n",
    "    def _create_generator(self):\n",
    "        \"\"\"Create the generator matrix (cyclic permutation matrix)\"\"\"\n",
    "        matrix = np.zeros((self.n, self.n), dtype=int)\n",
    "        for i in range(self.n - 1):\n",
    "            matrix[i + 1, i] = 1\n",
    "        matrix[0, self.n - 1] = 1\n",
    "        return matrix\n",
    "    \n",
    "    def _generate_elements(self):\n",
    "        \"\"\"Generate all group elements by powers of the generator\"\"\"\n",
    "        elements = [np.eye(self.n, dtype=int)]  # Start with identity\n",
    "        \n",
    "        current = self.generator.copy()\n",
    "        for _ in range(self.n - 1):\n",
    "            elements.append(current)\n",
    "            current = current @ self.generator  # Matrix multiplication\n",
    "        \n",
    "        return elements\n",
    "    \n",
    "    def get_element(self, k):\n",
    "        \"\"\"Get the k-th group element (0 ≤ k < n)\"\"\"\n",
    "        if not 0 <= k < self.n:\n",
    "            raise ValueError(\"k must be between 0 and n-1\")\n",
    "        return self.elements[k]\n",
    "    \n",
    "    def display_all_elements(self):\n",
    "        \"\"\"Display all group elements\"\"\"\n",
    "        print(f\"\\nAll elements of C_{self.n}:\")\n",
    "        for i, element in enumerate(self.elements):\n",
    "            print(f\"Element {i}:\")\n",
    "            print(element)\n",
    "            print()"
   ]
  },
  {
   "cell_type": "code",
   "execution_count": 27,
   "id": "3e9a8da8-025d-4cb7-aecc-ed4ad39e76a8",
   "metadata": {},
   "outputs": [
    {
     "name": "stdout",
     "output_type": "stream",
     "text": [
      "Generator matrix:\n",
      "[[0 0 1]\n",
      " [1 0 0]\n",
      " [0 1 0]]\n",
      "\n",
      "All elements of C_3:\n",
      "Element 0:\n",
      "[[1 0 0]\n",
      " [0 1 0]\n",
      " [0 0 1]]\n",
      "\n",
      "Element 1:\n",
      "[[0 0 1]\n",
      " [1 0 0]\n",
      " [0 1 0]]\n",
      "\n",
      "Element 2:\n",
      "[[0 1 0]\n",
      " [0 0 1]\n",
      " [1 0 0]]\n",
      "\n"
     ]
    }
   ],
   "source": [
    "# Example usage\n",
    "if __name__ == \"__main__\":\n",
    "    # Create C₄ matrix representation\n",
    "    c4 = CyclicGroupMatrixRep(3)\n",
    "    \n",
    "    print(\"Generator matrix:\")\n",
    "    print(c4.generator)\n",
    "    \n",
    "    # Display all elements\n",
    "    c4.display_all_elements()"
   ]
  },
  {
   "cell_type": "markdown",
   "id": "77fde388-e044-4230-a6cd-803bee46b4a7",
   "metadata": {
    "jp-MarkdownHeadingCollapsed": true
   },
   "source": [
    "### $\\sigma$-moment generating function"
   ]
  },
  {
   "cell_type": "code",
   "execution_count": 131,
   "id": "5bc29c5b-cb54-4367-8969-71dc6bb836d3",
   "metadata": {},
   "outputs": [],
   "source": [
    "class CyclicGroup:\n",
    "    # Initialize the cyclic group Z/nZ representation\n",
    "    def __init__(self, n):\n",
    "        # Confirm the group order to be a positive integer\n",
    "        # If not, throw an error since it's mathematically inaccurate\n",
    "        if not isinstance(n, int) or n <= 0:\n",
    "            raise ValueError(\"n must be a positive integer\")\n",
    "        # Initialize the group's order\n",
    "        self.n = n\n",
    "\n",
    "    def chi_k(self, k, m):\n",
    "        \"\"\"\n",
    "        Compute the function chi_k(m) = e^(2i*pi*m*k/n)\n",
    "        \n",
    "        Parameters:\n",
    "        - k: ???\n",
    "        - m: ???\n",
    "        \"\"\"\n",
    "        # Return the computation function for chi_k(m) based on the proof's formula\n",
    "        return cmath.exp(2j * pi * k * m / self.n)\n",
    "    \n",
    "    def expectation_func(self, k, tau):\n",
    "        \"\"\"\n",
    "        Compute E[X_{p_tau}]. In this case, the proof states that E[X_{p_tau}] can be \n",
    "        interpreted piecewise based on the divisibility between n and k * |tau|, where \n",
    "        |tau| denotes the sum of all the entries of tau.\n",
    "\n",
    "        Parameters:\n",
    "        - tau: a list of [alpha_1, alpha_2, alpha_3,...,alpha_m] \n",
    "        \"\"\"\n",
    "        # |tau| denotes the sum of all the entries of tau\n",
    "        tau_sum = np.sum(tau)\n",
    "        # If k * tau_sum is divisible by n, return 1\n",
    "        if (k * tau_sum) % self.n == 0:\n",
    "            return 1\n",
    "        # If not, return 0.\n",
    "        else:\n",
    "            return 0\n",
    "    \n",
    "    def sigma_mgf(self, k, max_degree=None):\n",
    "        \"\"\"\n",
    "        Compute the sigma-moment generating function E[exp_sigma(Xh_1)] where\n",
    "        E[exp_sigma(Xh_1)] = Sigma_τ ((delta_{n,k,tau}/z_tau)*p_tau).\n",
    "        \n",
    "        Parameters:\n",
    "        - k: ???\n",
    "        - max_degree: maximum degree of partitions to consider\n",
    "        \"\"\"\n",
    "        if max_degree is None:\n",
    "            max_degree = self.n\n",
    "        \n",
    "        result = defaultdict(float)\n",
    "        \n",
    "        for tau in self.partitions(max_degree):\n",
    "            # We interpret the expression for E[X_{p_tau}] as delta_{n,k,tau},\n",
    "            # which means that delta = result of expectation_func.\n",
    "            delta = self.expectation_func(k, tau)\n",
    "            \n",
    "            # Calculate z_tau and p_tau\n",
    "            z_tau = self.z_tau(tau)\n",
    "            p_tau = self.p_tau(k, tau)\n",
    "\n",
    "            # Calculate the sigma-moment function\n",
    "            result[tau] = (delta * p_tau) / z_tau\n",
    "        \n",
    "        return result\n",
    "\n",
    "    def z_tau(self, tau):\n",
    "        \"\"\"\n",
    "        According to Prof. Sean's paper (page 4), z_tau is computed similarly to p_tau,\n",
    "        h_tau, and e_tau. The paper states that p_tau = prod(p_{tau_j}), h_tau = prod(h_{tau_j}),\n",
    "        and e_tau = prod(e_{tau_j}). Hence, z_tau = prod(z_{tau_j}).\n",
    "\n",
    "        Parameters:\n",
    "        - tau: a list of alpha values [alpha_1, alpha_2, alpha_3,...,alpha_m] \n",
    "        \"\"\"\n",
    "        # Create a dictionary that keeps track of how many alpha values are in tau.\n",
    "        multiplicity = defaultdict(int)\n",
    "        for alpha in tau:\n",
    "            multiplicity[alpha] += 1\n",
    "\n",
    "        # Compute the multiplicity of z_tau\n",
    "        z = 1\n",
    "        for i, m in multiplicity.items():\n",
    "            z *= (i**m) * factorial(m)\n",
    "        return z\n",
    "\n",
    "    def p_tau(self, k, tau):\n",
    "        \"\"\"\n",
    "        Compute p_tau = prod(p_{tau_j}), where p_{tau_j} = prod_{m} chi_k(m)^{tau_j}\n",
    "        \n",
    "        Parameters:\n",
    "        - tau: a list of alpha values [alpha_1, alpha_2, alpha_3,...,alpha_m] \n",
    "        \"\"\"\n",
    "        # Compute the multiplicity of p_tau\n",
    "        p = 1\n",
    "        for alpha in tau:\n",
    "            p_tau_j = sum(self.chi_k(k, m)**alpha for m in range(self.n))\n",
    "            p *= p_tau_j\n",
    "        return p\n",
    "\n",
    "    def partitions(self, max_degree):\n",
    "        # Generate integer partitions up to max_degree\n",
    "        for size in range(max_degree + 1):\n",
    "            for p in partitions(size):\n",
    "                partition = []\n",
    "                for part, mult in sorted(p.items(), reverse=True):\n",
    "                    partition.extend([part] * mult)\n",
    "                yield tuple(partition)\n",
    "        yield tuple() \n",
    "\n",
    "    \n",
    "    def lambda_distribution(self, k, f_expansion):\n",
    "        \"\"\"\n",
    "        Compute the Lambda-distribution mu_X(f) = sum_{lambda: n | k*|lambda|} α_lambda.\n",
    "        \n",
    "        Parameters:\n",
    "        - k: ???\n",
    "        - f_expansion: dict {partition: coefficient} representing f in power sum basis\n",
    "        \"\"\"\n",
    "        d = self.n // gcd(self.n, k)\n",
    "        return sum(alpha for Lambda, alpha in f_expansion.items() \n",
    "                 if sum(Lambda) % d == 0)"
   ]
  },
  {
   "cell_type": "code",
   "execution_count": 133,
   "id": "c27af491-372c-4ea9-b180-9528b4734aef",
   "metadata": {},
   "outputs": [
    {
     "name": "stdout",
     "output_type": "stream",
     "text": [
      "Character values χ_2 for Z/6Z:\n",
      "χ_2(0) = 1.000 + 0.000i\n",
      "χ_2(1) = -0.500 + 0.866i\n",
      "χ_2(2) = -0.500 + -0.866i\n",
      "χ_2(3) = 1.000 + 0.000i\n",
      "χ_2(4) = -0.500 + 0.866i\n",
      "χ_2(5) = -0.500 + -0.866i\n",
      "\n",
      "Expectation values 𝔼[X_pτ] for k=2:\n",
      "τ = (1): 0\n",
      "τ = (2): 0\n",
      "τ = (1,1): 0\n",
      "τ = (3): 1\n",
      "τ = (2,1): 1\n",
      "τ = (1,1,1): 1\n",
      "\n",
      "Moment generating function terms (up to degree 3):\n",
      "p(): 1.000\n",
      "p(1,): 0.000\n",
      "p(1, 1): 0.000\n",
      "p(1, 1, 1): 0.000\n",
      "p(2,): 0.000\n",
      "p(2, 1): 0.000\n",
      "p(3,): 2.000\n",
      "\n",
      "Λ-distribution for f = p₁ + 2p₂ + p_(1,1):\n",
      "k=0: μ_X(f) = 4\n",
      "k=1: μ_X(f) = 0\n",
      "k=2: μ_X(f) = 0\n",
      "k=3: μ_X(f) = 3\n"
     ]
    }
   ],
   "source": [
    "# Example usage\n",
    "if __name__ == \"__main__\":\n",
    "    # Initialize with n=6\n",
    "    n = 6\n",
    "    cgr = CyclicGroup(n)\n",
    "    \n",
    "    # Example 1: Compute character values\n",
    "    k = 2\n",
    "    print(f\"Character values χ_{k} for Z/{n}Z:\")\n",
    "    for m in range(n):\n",
    "        char_value = cgr.chi_k(k, m)\n",
    "        # Format complex number nicely\n",
    "        real_part = char_value.real\n",
    "        imag_part = char_value.imag\n",
    "        if abs(real_part) < 1e-10:\n",
    "            real_part = 0\n",
    "        if abs(imag_part) < 1e-10:\n",
    "            imag_part = 0\n",
    "        print(f\"χ_{k}({m}) = {real_part:.3f} + {imag_part:.3f}i\")\n",
    "    \n",
    "    # Example 2: Compute expectation for various τ\n",
    "    test_cases = [\n",
    "    ((1,), \"τ = (1)\"),\n",
    "    ((2,), \"τ = (2)\"),\n",
    "    ((1, 1), \"τ = (1,1)\"),\n",
    "    ((3,), \"τ = (3)\"),\n",
    "    ((2, 1), \"τ = (2,1)\"),\n",
    "    ((1, 1, 1), \"τ = (1,1,1)\")\n",
    "    ]\n",
    "    \n",
    "    print(\"\\nExpectation values 𝔼[X_pτ] for k=2:\")\n",
    "    for tau, desc in test_cases:\n",
    "        expectation = cgr.expectation_func(k, tau)\n",
    "        print(f\"{desc}: {expectation}\")\n",
    "    \n",
    "    # Example 3: Compute moment generating function terms\n",
    "    print(\"\\nMoment generating function terms (up to degree 3):\")\n",
    "    mgf = cgr.sigma_mgf(k, max_degree=3)\n",
    "    for tau, coeff in sorted(mgf.items()):\n",
    "        print(f\"p{tau}: {coeff:.3f}\")\n",
    "    \n",
    "    # Example 4: Compute Λ-distribution\n",
    "    # Let's create a test symmetric function f = p₁ + 2p₂ + p_(1,1)\n",
    "    f_expansion = {\n",
    "        (1,): 1,\n",
    "        (2,): 2,\n",
    "        (1, 1): 1\n",
    "    }\n",
    "    \n",
    "    print(\"\\nΛ-distribution for f = p₁ + 2p₂ + p_(1,1):\")\n",
    "    for k_test in [0, 1, 2, 3]:\n",
    "        result = cgr.lambda_distribution(k_test, f_expansion)\n",
    "        print(f\"k={k_test}: μ_X(f) = {result}\")"
   ]
  },
  {
   "cell_type": "markdown",
   "id": "7b8ffe15-49dd-469b-bf93-6c50ab2912cb",
   "metadata": {
    "jp-MarkdownHeadingCollapsed": true
   },
   "source": [
    "## Group 2: Dihedral Groups ($D_n$)"
   ]
  },
  {
   "cell_type": "markdown",
   "id": "76a7a314-4cb9-4ed2-aaf4-8cff79c240c3",
   "metadata": {},
   "source": [
    "### Matrix Reperesentation and Calculated Expectation"
   ]
  },
  {
   "cell_type": "code",
   "execution_count": 19,
   "id": "f34d8008-be6d-4a7f-bfd2-4b95b4e6b663",
   "metadata": {},
   "outputs": [],
   "source": [
    "# Create a class of Dihedral Group that computes the sigma-moment generating function. \n",
    "class DihedralGroup:\n",
    "    def __init__(self, n, k):\n",
    "        \"\"\" \n",
    "        Initialize the dihedral group representation\n",
    "    \n",
    "        Parameters:\n",
    "        - n: the order of the dihedral group D_n\n",
    "        - k: ???\n",
    "        \"\"\"\n",
    "        self.n = n\n",
    "        self.k = k\n",
    "        self.z = exp(2j * pi * k / n)\n",
    "\n",
    "    def rho_k(self, rotation, l):\n",
    "        \"\"\"\n",
    "        Returns a 2x2 matrix representation based on rho_k(n)\n",
    "        \n",
    "        Parameters:\n",
    "        - rotation: return the respective matrix based on two rotation options:\n",
    "                  'r' is to rotate l times (R_n(l))\n",
    "                  'f' is to both rotate l times and 1 flip (F_n(l))\n",
    "        - l: the number of rotations performed\n",
    "        \"\"\"\n",
    "        sigma = (2 * pi * self.k * l) / self.n\n",
    "        if rotation == 'r':  \n",
    "            return np.array([\n",
    "                [exp(1j * sigma), 0],\n",
    "                [0, exp(-1j * sigma)]\n",
    "            ], dtype=complex)\n",
    "        elif rotation == 'f':\n",
    "            return np.array([\n",
    "                [0, exp(1j * sigma)],\n",
    "                [exp(-1j * sigma), 0]\n",
    "            ], dtype=complex)\n",
    "        else:\n",
    "            raise ValueError(\"Element type must be 'r' or 'f'\")\n",
    "\n",
    "    def eigenvalues(self, rotation, l):\n",
    "        \"\"\"\n",
    "        Compute the eigenvalues for each type of matrix rotation\n",
    "        \n",
    "        Parameters:\n",
    "        - rotation: return the respective matrix based on two rotation options:\n",
    "                  'r' is to rotate l times (R_n(l))\n",
    "                  'f' is to both rotate l times and 1 flip (F_n(l))\n",
    "        - l: int - number of rotations\n",
    "        \"\"\"\n",
    "        theta = (2 * pi * self.k * l) / self.n\n",
    "        if rotation == 'r':\n",
    "            return [exp(1j * theta), exp(-1j * theta)]\n",
    "        elif rotation == 'f':\n",
    "            return [1, -1]\n",
    "        else:\n",
    "            raise ValueError(\"Element type must be 'r' or 'f'\")\n",
    "\n",
    "    def sigma_mgf(self, tau, l, rotation='r'):\n",
    "        \"\"\"\n",
    "        Compute the sigma-moment generating function of both R_n(l) and F_n(l). \n",
    "        We set R_n(l) as the default computation since F_n(l) would always return 0.\n",
    "        \n",
    "        Parameters:\n",
    "        - rotation: return the respective matrix based on two rotation options:\n",
    "          'r' is to rotate l times (R_n(l))\n",
    "          'f' is to both rotate l times and 1 flip (F_n(l))\n",
    "        - tau: a list of [alpha_1, alpha_2, alpha_3,...,alpha_m]\n",
    "        - l: int - number of rotations\n",
    "        \"\"\"\n",
    "        if rotation == 'r':\n",
    "            eigen_val = self.eigenvalues(rotation, l)\n",
    "            p_tau_result = 1\n",
    "            for alpha in tau:\n",
    "                term = (eigen_val[0]**alpha) + (eigen_val[1]**alpha)\n",
    "                p_tau_result *= term\n",
    "            return p_tau_result\n",
    "        elif rotation == 'f':\n",
    "            return 0\n",
    "        else:\n",
    "            raise ValueError(\"Element type must be 'r' or 'f'\")\n",
    "\n",
    "    def expectation_func(self, tau):\n",
    "        \"\"\"\n",
    "        Compute E[X_{p_tau}]\n",
    "\n",
    "        Parameters:\n",
    "        - tau: a list of [alpha_1, alpha_2, alpha_3,...,alpha_m] \n",
    "        \"\"\"\n",
    "        res = 0\n",
    "        for l in range(self.n):\n",
    "            res += self.sigma_mgf(tau, l)\n",
    "        return res / (2 * self.n)"
   ]
  },
  {
   "cell_type": "code",
   "execution_count": 20,
   "id": "b0334988-f030-4f0c-9417-c6561f774785",
   "metadata": {},
   "outputs": [
    {
     "name": "stdout",
     "output_type": "stream",
     "text": [
      "=== Matrix Representations in D₄ ===\n",
      "Rotation r^1:\n",
      "[[6.123234e-17+1.j 0.000000e+00+0.j]\n",
      " [0.000000e+00+0.j 6.123234e-17-1.j]]\n",
      "\n",
      "Flip f (r^0 f):\n",
      "[[0.+0.j 1.+0.j]\n",
      " [1.-0.j 0.+0.j]]\n",
      "\n",
      "=== Eigenvalues ===\n",
      "Eigenvalues of r^1: ['0.000+1.000j', '0.000-1.000j']\n",
      "Eigenvalues of f: [1, -1]\n",
      "\n",
      "=== σ-Moment Generating Function ===\n",
      "For τ = [1, 2]:\n",
      "r^0: 4.000+0.000j\n",
      "r^1: -0.000+0.000j\n",
      "r^2: -4.000+0.000j\n",
      "r^3: 0.000-0.000j\n",
      "f: 0\n",
      "\n",
      "=== Expectation Value ===\n",
      "𝔼[X_[1, 2]] = 0.000+0.000j\n"
     ]
    }
   ],
   "source": [
    "# Create D₄ group with representation k=1\n",
    "d4 = DihedralGroup(n=4, k=1)\n",
    "tau = [1, 2]  # Our parameters\n",
    "\n",
    "print(\"=== Matrix Representations in D₄ ===\")\n",
    "print(\"Rotation r^1:\")\n",
    "print(d4.rho_k('r', 1))\n",
    "print(\"\\nFlip f (r^0 f):\")\n",
    "print(d4.rho_k('f', 0))\n",
    "\n",
    "print(\"\\n=== Eigenvalues ===\")\n",
    "print(\"Eigenvalues of r^1:\", [f\"{x:.3f}\" for x in d4.eigenvalues('r', 1)])\n",
    "print(\"Eigenvalues of f:\", d4.eigenvalues('f', 0))\n",
    "\n",
    "print(\"\\n=== σ-Moment Generating Function ===\")\n",
    "print(f\"For τ = {tau}:\")\n",
    "for l in range(4):\n",
    "    print(f\"r^{l}: {d4.sigma_mgf(tau, l):.3f}\")\n",
    "print(f\"f: {d4.sigma_mgf(tau, 0, 'f')}\")  # Should be 0\n",
    "\n",
    "print(\"\\n=== Expectation Value ===\")\n",
    "expectation = d4.expectation_func(tau)\n",
    "print(f\"𝔼[X_{tau}] = {expectation:.3f}\")"
   ]
  },
  {
   "cell_type": "markdown",
   "id": "10e8a321-8033-4491-bdfe-f7d364384508",
   "metadata": {},
   "source": [
    "## Group 3 & 4: Symmetric Group $S_n$ and Alternating Group $A_n$"
   ]
  },
  {
   "cell_type": "code",
   "execution_count": null,
   "id": "3d6222dd-3162-485f-89ed-82f9c753e184",
   "metadata": {},
   "outputs": [],
   "source": []
  },
  {
   "cell_type": "code",
   "execution_count": null,
   "id": "09e42df2-479b-48f5-a55c-f1040d3f31f4",
   "metadata": {},
   "outputs": [],
   "source": []
  },
  {
   "cell_type": "code",
   "execution_count": null,
   "id": "2f5f2a86-5242-4e1b-b726-bca08caede6a",
   "metadata": {},
   "outputs": [],
   "source": []
  },
  {
   "cell_type": "code",
   "execution_count": null,
   "id": "db64a7c3-e915-474c-bfb9-68c2dd2e9319",
   "metadata": {},
   "outputs": [],
   "source": []
  },
  {
   "cell_type": "code",
   "execution_count": null,
   "id": "0e6ee1a8-2479-4062-abf9-51033df3d56d",
   "metadata": {},
   "outputs": [],
   "source": []
  },
  {
   "cell_type": "code",
   "execution_count": null,
   "id": "34dd702b-9105-4d94-9a6f-0470c80f10c8",
   "metadata": {},
   "outputs": [],
   "source": []
  },
  {
   "cell_type": "code",
   "execution_count": null,
   "id": "d013cd25-1efe-424c-af11-ce47ab81bc19",
   "metadata": {},
   "outputs": [],
   "source": []
  },
  {
   "cell_type": "code",
   "execution_count": null,
   "id": "fc815803-a1c2-42c3-9c52-dd6c623144a8",
   "metadata": {},
   "outputs": [],
   "source": []
  },
  {
   "cell_type": "code",
   "execution_count": null,
   "id": "cdf11889-5e12-41f3-b319-fe76337a595f",
   "metadata": {},
   "outputs": [],
   "source": []
  },
  {
   "cell_type": "code",
   "execution_count": null,
   "id": "a515b0cc-064c-4cb8-ab52-e2fa031e71e0",
   "metadata": {},
   "outputs": [],
   "source": []
  },
  {
   "cell_type": "code",
   "execution_count": null,
   "id": "72dff45a-fc93-434b-9a35-f378dbc5f885",
   "metadata": {},
   "outputs": [],
   "source": []
  },
  {
   "cell_type": "code",
   "execution_count": null,
   "id": "d6152f93-b5dc-43c2-a541-ff738a35e16b",
   "metadata": {},
   "outputs": [],
   "source": []
  },
  {
   "cell_type": "code",
   "execution_count": null,
   "id": "119b98f6-5cc4-4922-82f2-cb513764ac9d",
   "metadata": {},
   "outputs": [],
   "source": []
  },
  {
   "cell_type": "code",
   "execution_count": null,
   "id": "d206342c-2904-4fd3-9c35-ec78972a631f",
   "metadata": {},
   "outputs": [],
   "source": []
  }
 ],
 "metadata": {
  "kernelspec": {
   "display_name": "Python 3 (ipykernel)",
   "language": "python",
   "name": "python3"
  },
  "language_info": {
   "codemirror_mode": {
    "name": "ipython",
    "version": 3
   },
   "file_extension": ".py",
   "mimetype": "text/x-python",
   "name": "python",
   "nbconvert_exporter": "python",
   "pygments_lexer": "ipython3",
   "version": "3.12.4"
  }
 },
 "nbformat": 4,
 "nbformat_minor": 5
}
