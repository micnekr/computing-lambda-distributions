{
 "cells": [
  {
   "cell_type": "code",
   "execution_count": null,
   "id": "87129aaa-7f91-47fe-bf45-dd9c7e56f947",
   "metadata": {},
   "outputs": [],
   "source": [
    "from lib.simulation import approximate_sigma_mgf, matrix_to_eigenvalues\n",
    "\n",
    "# I think there is a faster way to find eigenvalues directly in this case\n",
    "\n",
    "\n",
    "def random_matrix():\n",
    "    pass\n",
    "\n",
    "\n",
    "approximate_sigma_mgf(lambda: get_eigenvalues(random_matrix()), 5)\n"
   ]
  }
 ],
 "metadata": {
  "kernelspec": {
   "display_name": "SageMath 10.6",
   "language": "sage",
   "name": "sagemath"
  },
  "language_info": {
   "codemirror_mode": {
    "name": "ipython",
    "version": 3
   },
   "file_extension": ".py",
   "mimetype": "text/x-python",
   "name": "python",
   "nbconvert_exporter": "python",
   "pygments_lexer": "ipython3",
   "version": "3.12.5"
  }
 },
 "nbformat": 4,
 "nbformat_minor": 5
}
