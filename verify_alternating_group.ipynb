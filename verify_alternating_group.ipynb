{
 "cells": [
  {
   "cell_type": "code",
   "execution_count": 1,
   "id": "da875b11-1b0f-4314-99f3-82b4479ff086",
   "metadata": {},
   "outputs": [],
   "source": [
    "import numpy as np\n",
    "import itertools\n",
    "from sage.symbolic.expression_conversions import polynomial\n",
    "\n",
    "def calculate_sigma_mgf_explicitly_mod_degree(n, l):\n",
    "    # Find the eigenvalues of generalised permutations\n",
    "    eigenvalue_sets = []\n",
    "    for permutation in Permutations(n):        \n",
    "        if not permutation.is_even():\n",
    "            continue\n",
    "        permutation_matrix = permutation.to_matrix()\n",
    "\n",
    "        # TODO: do it the faster way\n",
    "        eigenvalue_sets.append(permutation_matrix.eigenvalues())\n",
    "    \n",
    "    Sym = SymmetricFunctions(CC)\n",
    "    m = Sym.m()\n",
    "    h = Sym.h()\n",
    "    total = 0\n",
    "    # Get the average for each partition, up to and including degree n\n",
    "    for degree in range(n+1):\n",
    "        for tau in Partitions(degree):\n",
    "            m_tau = m(tau)\n",
    "            h_tau_poly = h(tau).expand(n)\n",
    "            total_per_tau = 0\n",
    "            for eigenvalue_set in eigenvalue_sets:\n",
    "                total_per_tau += h_tau_poly(eigenvalue_set)\n",
    "            avg_per_tau = total_per_tau / len(eigenvalue_sets)\n",
    "            total += avg_per_tau * m_tau\n",
    "    return total"
   ]
  },
  {
   "cell_type": "code",
   "execution_count": 2,
   "id": "797cb5ba-2750-4e44-b139-35796eca3841",
   "metadata": {},
   "outputs": [],
   "source": [
    "# This extends the idea behind the truncate function on MPolynomial, but now truncating based on total degree\n",
    "def truncate(poly, n):\n",
    "    R = poly.parent()\n",
    "    \n",
    "    return R({key: coef for key, coef in poly.monomial_coefficients().items()\n",
    "              if sum(key) <= n})"
   ]
  },
  {
   "cell_type": "code",
   "execution_count": 3,
   "id": "e917bfee-6f5b-4ed9-a920-272f684bb97a",
   "metadata": {},
   "outputs": [],
   "source": [
    "def calculate_sigma_mgf_with_formula_mod_degree(n, l):\n",
    "    \n",
    "    # Polynomial ring in n polys\n",
    "    R = PolynomialRing(CC, n, \"x\")\n",
    "    variables = R.gens()\n",
    "\n",
    "    # \\prod_{m} \\frac{1}{1-m}\n",
    "    product_term_1 = R(1)\n",
    "    # \\prod_{m} 1+m\n",
    "    product_term_2 = R(1)\n",
    "    for degree in range(1, n+1):\n",
    "        # TODO: there is probably a more effecient way to do this\n",
    "        # Consider all possible monomials of this degree\n",
    "        seen_monomials = set()\n",
    "        for selected_vars in itertools.combinations_with_replacement(variables, degree):\n",
    "            monomial = 1\n",
    "            for var in selected_vars:\n",
    "                monomial *= var\n",
    "            if monomial in seen_monomials:\n",
    "                continue\n",
    "            # Now create a truncated version of 1/(1-monomial)=1 + monomial + monomial ^ 2 + ...\n",
    "            monomial_power = 1\n",
    "            total = 0\n",
    "            for _ in range(0, n+1, degree):\n",
    "                total += monomial_power\n",
    "                monomial_power *= monomial\n",
    "\n",
    "            seen_monomials.add(monomial)\n",
    "            product_term_1 *= total\n",
    "            product_term_1 = truncate(product_term_1, n)\n",
    "            \n",
    "            product_term_2 *= (1+monomial)\n",
    "            product_term_2 = truncate(product_term_2, n)\n",
    "    \n",
    "    print(product_term_1, product_term_2)\n",
    "    return product_term_1 * product_term_2"
   ]
  },
  {
   "cell_type": "code",
   "execution_count": 4,
   "id": "8aa64597-efca-41d1-aea9-a3e591d5667b",
   "metadata": {},
   "outputs": [],
   "source": [
    "def symmetric_poly_to_poly(poly, n):\n",
    "    poly = poly.expand(n)\n",
    "    return poly"
   ]
  },
  {
   "cell_type": "code",
   "execution_count": 5,
   "id": "b8e2e40b-99c6-4d36-b5f1-68dca4c8a3c9",
   "metadata": {},
   "outputs": [
    {
     "name": "stdout",
     "output_type": "stream",
     "text": [
      "3.00000000000000*x0^2 + 4.00000000000000*x0*x1 + 3.00000000000000*x1^2 + 2.00000000000000*x0 + 2.00000000000000*x1 + 1.00000000000000\n",
      "2.00000000000000*x0^2 + 2.00000000000000*x0*x1 + 2.00000000000000*x1^2 + x0 + x1 + 1.00000000000000 x0^2 + 2.00000000000000*x0*x1 + x1^2 + x0 + x1 + 1.00000000000000\n",
      "4.00000000000000*x0^2 + 6.00000000000000*x0*x1 + 4.00000000000000*x1^2 + 2.00000000000000*x0 + 2.00000000000000*x1 + 1.00000000000000\n"
     ]
    }
   ],
   "source": [
    "n = 2\n",
    "l = 2\n",
    "\n",
    "explicit_result = symmetric_poly_to_poly(calculate_sigma_mgf_explicitly_mod_degree(n, l), n)\n",
    "print(explicit_result)\n",
    "\n",
    "formula_result = truncate(calculate_sigma_mgf_with_formula_mod_degree(n, l), n)\n",
    "print(formula_result)"
   ]
  },
  {
   "cell_type": "code",
   "execution_count": 6,
   "id": "b0bc77fc-2a5e-4b9d-9f74-fb4993e4c312",
   "metadata": {},
   "outputs": [
    {
     "name": "stdout",
     "output_type": "stream",
     "text": [
      "x + 1.00000000000000 x + 1.00000000000000\n"
     ]
    },
    {
     "ename": "AssertionError",
     "evalue": "Difference of coefficient is -1.00000000000000 for explicit result x + 1.00000000000000 and predicted result 2.00000000000000*x + 1.00000000000000",
     "output_type": "error",
     "traceback": [
      "\u001b[31m---------------------------------------------------------------------------\u001b[39m",
      "\u001b[31mAssertionError\u001b[39m                            Traceback (most recent call last)",
      "\u001b[36mCell\u001b[39m\u001b[36m \u001b[39m\u001b[32mIn[6]\u001b[39m\u001b[32m, line 10\u001b[39m\n\u001b[32m      7\u001b[39m formula_result = truncate(calculate_sigma_mgf_with_formula_mod_degree(n, l), n)\n\u001b[32m      9\u001b[39m \u001b[38;5;28;01mfor\u001b[39;00m coef_diff \u001b[38;5;129;01min\u001b[39;00m (explicit_result - formula_result).monomial_coefficients().values():\n\u001b[32m---> \u001b[39m\u001b[32m10\u001b[39m     \u001b[38;5;28;01massert\u001b[39;00m \u001b[38;5;28mabs\u001b[39m(coef_diff) < RealNumber(\u001b[33m'\u001b[39m\u001b[33m0.000001\u001b[39m\u001b[33m'\u001b[39m), \u001b[33mf\u001b[39m\u001b[33m\"\u001b[39m\u001b[33mDifference of coefficient is \u001b[39m\u001b[38;5;132;01m{\u001b[39;00mcoef_diff\u001b[38;5;132;01m}\u001b[39;00m\u001b[33m for explicit result \u001b[39m\u001b[38;5;132;01m{\u001b[39;00mexplicit_result\u001b[38;5;132;01m}\u001b[39;00m\u001b[33m and predicted result \u001b[39m\u001b[38;5;132;01m{\u001b[39;00mformula_result\u001b[38;5;132;01m}\u001b[39;00m\u001b[33m\"\u001b[39m\n\u001b[32m     12\u001b[39m \u001b[38;5;28mprint\u001b[39m(\u001b[33mf\u001b[39m\u001b[33m\"\u001b[39m\u001b[33mn: \u001b[39m\u001b[38;5;132;01m{\u001b[39;00mn\u001b[38;5;132;01m}\u001b[39;00m\u001b[33m, l: \u001b[39m\u001b[38;5;132;01m{\u001b[39;00ml\u001b[38;5;132;01m}\u001b[39;00m\u001b[33m\"\u001b[39m)\n",
      "\u001b[31mAssertionError\u001b[39m: Difference of coefficient is -1.00000000000000 for explicit result x + 1.00000000000000 and predicted result 2.00000000000000*x + 1.00000000000000"
     ]
    }
   ],
   "source": [
    "for n in range(1, 10):\n",
    "    # Note: for some reason, for l=7, sage internals fall into an infinite loop\n",
    "    # also my code is very inefficient and so starts to run very slowly as n increases, so I will reduce l to combat that\n",
    "    for l in range(1, max(3, 9 - 2 * n)):\n",
    "        \n",
    "        explicit_result = symmetric_poly_to_poly(calculate_sigma_mgf_explicitly_mod_degree(n, l), n)        \n",
    "        formula_result = truncate(calculate_sigma_mgf_with_formula_mod_degree(n, l), n)\n",
    "        \n",
    "        for coef_diff in (explicit_result - formula_result).monomial_coefficients().values():\n",
    "            assert abs(coef_diff) < 0.000001, f\"Difference of coefficient is {coef_diff} for explicit result {explicit_result} and predicted result {formula_result}\"\n",
    "\n",
    "        print(f\"n: {n}, l: {l}\")"
   ]
  },
  {
   "cell_type": "code",
   "execution_count": null,
   "id": "6bb2c9da-bb5f-4edd-9cc3-5471da544348",
   "metadata": {},
   "outputs": [],
   "source": []
  }
 ],
 "metadata": {
  "kernelspec": {
   "display_name": "SageMath 10.6",
   "language": "sage",
   "name": "sagemath"
  },
  "language_info": {
   "codemirror_mode": {
    "name": "ipython",
    "version": 3
   },
   "file_extension": ".py",
   "mimetype": "text/x-python",
   "name": "python",
   "nbconvert_exporter": "python",
   "pygments_lexer": "ipython3",
   "version": "3.12.11"
  }
 },
 "nbformat": 4,
 "nbformat_minor": 5
}
