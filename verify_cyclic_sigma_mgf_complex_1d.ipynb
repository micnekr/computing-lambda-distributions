{
 "cells": [
  {
   "cell_type": "code",
   "execution_count": 1,
   "id": "da875b11-1b0f-4314-99f3-82b4479ff086",
   "metadata": {},
   "outputs": [],
   "source": [
    "import numpy as np\n",
    "def calculate_expectation_of_X_p_tau_explicitly(tau, n, k=1):\n",
    "    Sym = SymmetricFunctions(CC)\n",
    "    p = Sym.p()\n",
    "    p_tau_1_var = p(tau).expand(1)\n",
    "    \n",
    "    return np.mean([p_tau_1_var(e^(2*pi*I*k*m/n)) for m in range(n)]).n()\n",
    "\n",
    "def calculate_expectation_of_X_p_tau_with_formula(tau, n, k=1):\n",
    "    if (k * tau.size()) % n == 0:\n",
    "        return 1\n",
    "    else:\n",
    "        return 0"
   ]
  },
  {
   "cell_type": "code",
   "execution_count": 2,
   "id": "7e4effea-7c2d-4c6d-b0b5-9a5345ea374d",
   "metadata": {},
   "outputs": [
    {
     "name": "stdout",
     "output_type": "stream",
     "text": [
      "1.00000000000000\n",
      "1\n"
     ]
    }
   ],
   "source": [
    "p = Partition([3, 1])\n",
    "print(calculate_expectation_of_X_p_tau_explicitly(p, 2))\n",
    "print(calculate_expectation_of_X_p_tau_with_formula(p, 2))"
   ]
  },
  {
   "cell_type": "code",
   "execution_count": 4,
   "id": "505e62f3-e1c6-4c8f-8938-c35415d8fb8d",
   "metadata": {},
   "outputs": [
    {
     "name": "stdout",
     "output_type": "stream",
     "text": [
      "Checking n=1\n",
      "Checking n=2\n",
      "Checking n=3\n",
      "Checking n=4\n",
      "Checking n=5\n",
      "Checking n=6\n",
      "Checking n=7\n",
      "Checking n=8\n",
      "Checking n=9\n",
      "Checking n=10\n",
      "Checking n=11\n",
      "Checking n=12\n",
      "Checking n=13\n",
      "Checking n=14\n",
      "Checking n=15\n",
      "Checking n=16\n",
      "Checking n=17\n",
      "Checking n=18\n",
      "Checking n=19\n",
      "Checking n=20\n"
     ]
    }
   ],
   "source": [
    "MAX_PARTITION_SIZE = 10\n",
    "MAX_N = 20\n",
    "\n",
    "for n in range(1, MAX_N+1):\n",
    "    print(f\"Checking n={n}\")\n",
    "    for k in range(1, n+1):\n",
    "        for partition_size in range(MAX_PARTITION_SIZE):\n",
    "            for tau in Partitions(partition_size):\n",
    "                explicit = calculate_expectation_of_X_p_tau_explicitly(tau, n, k)\n",
    "                from_formula = calculate_expectation_of_X_p_tau_with_formula(tau, n, k)\n",
    "                assert np.isclose(explicit, from_formula), f\"Explicit value {explicit} does not equal to predicted value {from_formula}\""
   ]
  }
 ],
 "metadata": {
  "kernelspec": {
   "display_name": "SageMath 10.6",
   "language": "sage",
   "name": "sagemath"
  },
  "language_info": {
   "codemirror_mode": {
    "name": "ipython",
    "version": 3
   },
   "file_extension": ".py",
   "mimetype": "text/x-python",
   "name": "python",
   "nbconvert_exporter": "python",
   "pygments_lexer": "ipython3",
   "version": "3.12.11"
  }
 },
 "nbformat": 4,
 "nbformat_minor": 5
}
