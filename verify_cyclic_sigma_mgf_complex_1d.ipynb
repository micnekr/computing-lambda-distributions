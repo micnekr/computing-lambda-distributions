{
 "cells": [
  {
   "cell_type": "code",
   "execution_count": 1,
   "id": "da875b11-1b0f-4314-99f3-82b4479ff086",
   "metadata": {},
   "outputs": [],
   "source": [
    "import numpy as np\n",
    "def calculate_expectation_of_X_p_tau_explicitly(tau, n, k=1):\n",
    "    Sym = SymmetricFunctions(CC)\n",
    "    p = Sym.p()\n",
    "    p_tau_1_var = p(tau).expand(1)\n",
    "    \n",
    "    return np.mean([p_tau_1_var(e^(2*pi*I*k*m/n)) for m in range(n)]).n()\n",
    "\n",
    "def calculate_expectation_of_X_p_tau_with_formula(tau, n, k=1):\n",
    "    if (k * tau.size()) % n == 0:\n",
    "        return 1\n",
    "    else:\n",
    "        return 0"
   ]
  },
  {
   "cell_type": "code",
   "execution_count": 2,
   "id": "7e4effea-7c2d-4c6d-b0b5-9a5345ea374d",
   "metadata": {},
   "outputs": [
    {
     "name": "stdout",
     "output_type": "stream",
     "text": [
      "1.00000000000000\n",
      "1\n"
     ]
    }
   ],
   "source": [
    "p = Partition([3, 1])\n",
    "print(calculate_expectation_of_X_p_tau_explicitly(p, 2))\n",
    "print(calculate_expectation_of_X_p_tau_with_formula(p, 2))"
   ]
  },
  {
   "cell_type": "code",
   "execution_count": 4,
   "id": "505e62f3-e1c6-4c8f-8938-c35415d8fb8d",
   "metadata": {},
   "outputs": [
    {
     "name": "stdout",
     "output_type": "stream",
     "text": [
      "Checking n=1\n",
      "Checking n=2\n",
      "Checking n=3\n",
      "Checking n=4\n",
      "Checking n=5\n",
      "Checking n=6\n",
      "Checking n=7\n",
      "Checking n=8\n",
      "Checking n=9\n",
      "Checking n=10\n",
      "Checking n=11\n",
      "Checking n=12\n",
      "Checking n=13\n",
      "Checking n=14\n",
      "Checking n=15\n",
      "Checking n=16\n",
      "Checking n=17\n",
      "Checking n=18\n",
      "Checking n=19\n",
      "Checking n=20\n"
     ]
    }
   ],
   "source": [
    "MAX_PARTITION_SIZE = 10\n",
    "MAX_N = 20\n",
    "\n",
    "for n in range(1, MAX_N+1):\n",
    "    print(f\"Checking n={n}\")\n",
    "    for k in range(1, n+1):\n",
    "        for partition_size in range(MAX_PARTITION_SIZE):\n",
    "            for tau in Partitions(partition_size):\n",
    "                explicit = calculate_expectation_of_X_p_tau_explicitly(tau, n, k)\n",
    "                from_formula = calculate_expectation_of_X_p_tau_with_formula(tau, n, k)\n",
    "                assert np.isclose(explicit, from_formula), f\"Explicit value {explicit} does not equal to predicted value {from_formula}\""
   ]
  },
  {
   "cell_type": "code",
   "execution_count": 5,
   "id": "7574500f-3d8b-4e29-8d7b-6bad5b8105fd",
   "metadata": {},
   "outputs": [
    {
     "ename": "TypeError",
     "evalue": "ufunc 'isfinite' not supported for the input types, and the inputs could not be safely coerced to any supported types according to the casting rule ''safe''",
     "output_type": "error",
     "traceback": [
      "\u001b[31m---------------------------------------------------------------------------\u001b[39m",
      "\u001b[31mTypeError\u001b[39m                                 Traceback (most recent call last)",
      "\u001b[36mCell\u001b[39m\u001b[36m \u001b[39m\u001b[32mIn[5]\u001b[39m\u001b[32m, line 1\u001b[39m\n\u001b[32m----> \u001b[39m\u001b[32m1\u001b[39m \u001b[43mnp\u001b[49m\u001b[43m.\u001b[49m\u001b[43misclose\u001b[49m\u001b[43m(\u001b[49m\u001b[43mInteger\u001b[49m\u001b[43m(\u001b[49m\u001b[32;43m1\u001b[39;49m\u001b[43m)\u001b[49m\u001b[43m,\u001b[49m\u001b[43m \u001b[49m\u001b[43mI\u001b[49m\u001b[43m)\u001b[49m\n",
      "\u001b[36mFile \u001b[39m\u001b[32m/nix/store/0r3vhwsx6n592ylck8cd2mcsy63dxqh8-python3-3.12.11-env/lib/python3.12/site-packages/numpy/_core/numeric.py:2497\u001b[39m, in \u001b[36misclose\u001b[39m\u001b[34m(a, b, rtol, atol, equal_nan)\u001b[39m\n\u001b[32m   2492\u001b[39m         \u001b[38;5;28mprint\u001b[39m(err_msg)\n\u001b[32m   2494\u001b[39m \u001b[38;5;28;01mwith\u001b[39;00m errstate(invalid=\u001b[33m'\u001b[39m\u001b[33mignore\u001b[39m\u001b[33m'\u001b[39m):\n\u001b[32m   2496\u001b[39m     result = (less_equal(\u001b[38;5;28mabs\u001b[39m(x - y), atol + rtol * \u001b[38;5;28mabs\u001b[39m(y))\n\u001b[32m-> \u001b[39m\u001b[32m2497\u001b[39m               & \u001b[43misfinite\u001b[49m\u001b[43m(\u001b[49m\u001b[43my\u001b[49m\u001b[43m)\u001b[49m\n\u001b[32m   2498\u001b[39m               | (x == y))\n\u001b[32m   2499\u001b[39m     \u001b[38;5;28;01mif\u001b[39;00m equal_nan:\n\u001b[32m   2500\u001b[39m         result |= isnan(x) & isnan(y)\n",
      "\u001b[31mTypeError\u001b[39m: ufunc 'isfinite' not supported for the input types, and the inputs could not be safely coerced to any supported types according to the casting rule ''safe''"
     ]
    }
   ],
   "source": [
    "np.isclose(1, I)"
   ]
  }
 ],
 "metadata": {
  "kernelspec": {
   "display_name": "SageMath 10.6",
   "language": "sage",
   "name": "sagemath"
  },
  "language_info": {
   "codemirror_mode": {
    "name": "ipython",
    "version": 3
   },
   "file_extension": ".py",
   "mimetype": "text/x-python",
   "name": "python",
   "nbconvert_exporter": "python",
   "pygments_lexer": "ipython3",
   "version": "3.12.11"
  }
 },
 "nbformat": 4,
 "nbformat_minor": 5
}
