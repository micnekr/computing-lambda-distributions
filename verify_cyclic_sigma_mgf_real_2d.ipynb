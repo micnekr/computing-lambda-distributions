{
 "cells": [
  {
   "cell_type": "code",
   "execution_count": 1,
   "id": "da875b11-1b0f-4314-99f3-82b4479ff086",
   "metadata": {},
   "outputs": [],
   "source": [
    "import numpy as np\n",
    "import itertools\n",
    "def calculate_expectation_of_X_p_tau_explicitly(tau, n, k=1):\n",
    "    Sym = SymmetricFunctions(CC)\n",
    "    p = Sym.p()\n",
    "    p_tau_1_var = p(tau).expand(2)\n",
    "    \n",
    "    return np.mean([p_tau_1_var(e^(2*pi*I*k*m/n), e^(-2*pi*I*k*m/n)) for m in range(n)]).n()\n",
    "\n",
    "def calculate_expectation_of_X_p_tau_with_formula(tau, n, k=1):\n",
    "    # This is inefficient\n",
    "    s = 0\n",
    "    len_tau = len(tau)\n",
    "    for selection in itertools.product([-1, 1], repeat=len_tau):\n",
    "        exponent_sum = 0\n",
    "        for i in range(len_tau):\n",
    "            exponent_sum += selection[i] * tau[i]\n",
    "        if k * exponent_sum % n == 0:\n",
    "            s += 1\n",
    "    return s"
   ]
  },
  {
   "cell_type": "code",
   "execution_count": 2,
   "id": "7e4effea-7c2d-4c6d-b0b5-9a5345ea374d",
   "metadata": {},
   "outputs": [
    {
     "name": "stdout",
     "output_type": "stream",
     "text": [
      "4.00000000000000\n",
      "4\n"
     ]
    }
   ],
   "source": [
    "p = Partition([3, 1])\n",
    "print(calculate_expectation_of_X_p_tau_explicitly(p, 2))\n",
    "print(calculate_expectation_of_X_p_tau_with_formula(p, 2))"
   ]
  },
  {
   "cell_type": "code",
   "execution_count": 3,
   "id": "505e62f3-e1c6-4c8f-8938-c35415d8fb8d",
   "metadata": {},
   "outputs": [
    {
     "name": "stdout",
     "output_type": "stream",
     "text": [
      "Checking n=1\n",
      "Checking n=2\n",
      "Checking n=3\n",
      "Checking n=4\n",
      "Checking n=5\n",
      "Checking n=6\n",
      "Checking n=7\n",
      "Checking n=8\n",
      "Checking n=9\n",
      "Checking n=10\n"
     ]
    },
    {
     "ename": "KeyboardInterrupt",
     "evalue": "",
     "output_type": "error",
     "traceback": [
      "\u001b[31m---------------------------------------------------------------------------\u001b[39m",
      "\u001b[31mKeyboardInterrupt\u001b[39m                         Traceback (most recent call last)",
      "\u001b[36mCell\u001b[39m\u001b[36m \u001b[39m\u001b[32mIn[3]\u001b[39m\u001b[32m, line 9\u001b[39m\n\u001b[32m      7\u001b[39m \u001b[38;5;28;01mfor\u001b[39;00m partition_size \u001b[38;5;129;01min\u001b[39;00m \u001b[38;5;28mrange\u001b[39m(MAX_PARTITION_SIZE):\n\u001b[32m      8\u001b[39m     \u001b[38;5;28;01mfor\u001b[39;00m tau \u001b[38;5;129;01min\u001b[39;00m Partitions(partition_size):\n\u001b[32m----> \u001b[39m\u001b[32m9\u001b[39m         explicit = \u001b[43mcalculate_expectation_of_X_p_tau_explicitly\u001b[49m\u001b[43m(\u001b[49m\u001b[43mtau\u001b[49m\u001b[43m,\u001b[49m\u001b[43m \u001b[49m\u001b[43mn\u001b[49m\u001b[43m,\u001b[49m\u001b[43m \u001b[49m\u001b[43mk\u001b[49m\u001b[43m)\u001b[49m\n\u001b[32m     10\u001b[39m         from_formula = calculate_expectation_of_X_p_tau_with_formula(tau, n, k)\n\u001b[32m     11\u001b[39m         \u001b[38;5;28;01massert\u001b[39;00m np.isclose(explicit, from_formula), \u001b[33mf\u001b[39m\u001b[33m\"\u001b[39m\u001b[33mExplicit value \u001b[39m\u001b[38;5;132;01m{\u001b[39;00mexplicit\u001b[38;5;132;01m}\u001b[39;00m\u001b[33m does not equal to predicted value \u001b[39m\u001b[38;5;132;01m{\u001b[39;00mfrom_formula\u001b[38;5;132;01m}\u001b[39;00m\u001b[33m\"\u001b[39m\n",
      "\u001b[36mCell\u001b[39m\u001b[36m \u001b[39m\u001b[32mIn[1]\u001b[39m\u001b[32m, line 8\u001b[39m, in \u001b[36mcalculate_expectation_of_X_p_tau_explicitly\u001b[39m\u001b[34m(tau, n, k)\u001b[39m\n\u001b[32m      5\u001b[39m p = Sym.p()\n\u001b[32m      6\u001b[39m p_tau_1_var = p(tau).expand(Integer(\u001b[32m2\u001b[39m))\n\u001b[32m----> \u001b[39m\u001b[32m8\u001b[39m \u001b[38;5;28;01mreturn\u001b[39;00m np.mean([p_tau_1_var(e**(Integer(\u001b[32m2\u001b[39m)*pi*I*k*m/n), e**(-\u001b[43mInteger\u001b[49m\u001b[43m(\u001b[49m\u001b[32;43m2\u001b[39;49m\u001b[43m)\u001b[49m*pi*I*k*m/n)) \u001b[38;5;28;01mfor\u001b[39;00m m \u001b[38;5;129;01min\u001b[39;00m \u001b[38;5;28mrange\u001b[39m(n)]).n()\n",
      "\u001b[36mFile \u001b[39m\u001b[32msignals.pyx:355\u001b[39m, in \u001b[36mcysignals.signals.python_check_interrupt\u001b[39m\u001b[34m()\u001b[39m\n",
      "\u001b[31mKeyboardInterrupt\u001b[39m: "
     ]
    }
   ],
   "source": [
    "MAX_PARTITION_SIZE = 10\n",
    "MAX_N = 20\n",
    "\n",
    "for n in range(1, MAX_N+1):\n",
    "    print(f\"Checking n={n}\")\n",
    "    for k in range(1, n+1):\n",
    "        for partition_size in range(MAX_PARTITION_SIZE):\n",
    "            for tau in Partitions(partition_size):\n",
    "                explicit = calculate_expectation_of_X_p_tau_explicitly(tau, n, k)\n",
    "                from_formula = calculate_expectation_of_X_p_tau_with_formula(tau, n, k)\n",
    "                assert np.isclose(explicit, from_formula), f\"Explicit value {explicit} does not equal to predicted value {from_formula}\""
   ]
  },
  {
   "cell_type": "code",
   "execution_count": null,
   "id": "7574500f-3d8b-4e29-8d7b-6bad5b8105fd",
   "metadata": {},
   "outputs": [],
   "source": [
    "np.isclose(1, I)"
   ]
  }
 ],
 "metadata": {
  "kernelspec": {
   "display_name": "SageMath 10.6",
   "language": "sage",
   "name": "sagemath"
  },
  "language_info": {
   "codemirror_mode": {
    "name": "ipython",
    "version": 3
   },
   "file_extension": ".py",
   "mimetype": "text/x-python",
   "name": "python",
   "nbconvert_exporter": "python",
   "pygments_lexer": "ipython3",
   "version": "3.12.11"
  }
 },
 "nbformat": 4,
 "nbformat_minor": 5
}
