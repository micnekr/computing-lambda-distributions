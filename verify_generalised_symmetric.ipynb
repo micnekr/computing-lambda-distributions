{
 "cells": [
  {
   "cell_type": "code",
   "execution_count": 7,
   "id": "da875b11-1b0f-4314-99f3-82b4479ff086",
   "metadata": {},
   "outputs": [],
   "source": [
    "import numpy as np\n",
    "import itertools\n",
    "from sage.symbolic.expression_conversions import polynomial\n",
    "\n",
    "def calculate_sigma_mgf_explicitly_mod_degree(n, l):\n",
    "    # # We want to look at all terms of degree at most n\n",
    "    # for degree in range(n):\n",
    "\n",
    "    # Find the permutations\n",
    "    symmetric_group_lists_of_eigenvalues = []\n",
    "    for permutation in SymmetricGroup(n):\n",
    "            # A cycle of size m has eigenvalues that are m-roots of unity.\n",
    "            # e.g. if zeta is an m-root of unity, its corresponding eigenvector is (zeta, zeta^2, ..., zeta^m)\n",
    "            eigenvalues = []\n",
    "            for cycle_len in permutation.cycle_type():\n",
    "                # The cycle type is a collection of numbers corresponding to sizes of each disjoint cycle\n",
    "                for i in range(cycle_len):\n",
    "                    eigenvalues.append(\n",
    "                        e^(2 * I * pi * i / cycle_len)\n",
    "                    )\n",
    "            assert len(eigenvalues) == n\n",
    "            symmetric_group_lists_of_eigenvalues.append(eigenvalues)\n",
    "\n",
    "    # Convert the permutations into generalised permutations\n",
    "    multiplied_eigenvalues = []\n",
    "    for eigenvalues in symmetric_group_lists_of_eigenvalues:\n",
    "        # Find all the coefficients corresponding to the non-0 entries of the generalised permutation matrix\n",
    "        # TODO: there is probably a way to exploit symmetry here to make this more efficient\n",
    "        for indices_of_coefficients in itertools.product(range(l), repeat=n):\n",
    "            # Then each of the eigenvalues of the symmetric group gets multiplied by these element-wise\n",
    "            multiplied_eigenvalues.append([e^(2 * I * pi * index_of_coef / l) * eigenval for (index_of_coef, eigenval) in zip(indices_of_coefficients, eigenvalues)])\n",
    "\n",
    "    \n",
    "    Sym = SymmetricFunctions(CC)\n",
    "    m = Sym.m()\n",
    "    h = Sym.h()\n",
    "    total = 0\n",
    "    # Get the average for each partition, up to and including degree n\n",
    "    for degree in range(n+1):\n",
    "        for tau in Partitions(degree):\n",
    "            m_tau = m(tau)\n",
    "            h_tau_poly = h(tau).expand(n)\n",
    "            total_per_tau = 0\n",
    "            for multiplied_eigenvalue in multiplied_eigenvalues:\n",
    "                if n == 2 and l == 2:\n",
    "                    print(tau, h_tau_poly(multiplied_eigenvalue))\n",
    "                total_per_tau += h_tau_poly(multiplied_eigenvalue)\n",
    "            avg_per_tau = total_per_tau / len(multiplied_eigenvalues)\n",
    "            total += avg_per_tau * m_tau\n",
    "    return total"
   ]
  },
  {
   "cell_type": "code",
   "execution_count": 8,
   "id": "797cb5ba-2750-4e44-b139-35796eca3841",
   "metadata": {},
   "outputs": [],
   "source": [
    "# This extends the idea behind the truncate function on MPolynomial, but now truncating based on total degree\n",
    "def truncate(poly, n):\n",
    "    R = poly.parent()\n",
    "    \n",
    "    return R({key: coef for key, coef in poly.monomial_coefficients().items()\n",
    "              if sum(key) <= n})"
   ]
  },
  {
   "cell_type": "code",
   "execution_count": 9,
   "id": "e917bfee-6f5b-4ed9-a920-272f684bb97a",
   "metadata": {},
   "outputs": [],
   "source": [
    "def calculate_sigma_mgf_with_formula_mod_degree(n, l):\n",
    "    \n",
    "    # Polynomial ring in n polys\n",
    "    R = PolynomialRing(CC, n, \"x\")\n",
    "    variables = R.gens()\n",
    "\n",
    "    product = R(1)\n",
    "    for degree in range(l, n+1, l):\n",
    "        # TODO: there is probably a more effecient way to do this\n",
    "        # Consider all possible monomials of this degree\n",
    "        seen_monomials = set()\n",
    "        for selected_vars in itertools.combinations_with_replacement(variables, degree):\n",
    "            monomial = 1\n",
    "            for var in selected_vars:\n",
    "                monomial *= var\n",
    "            if monomial in seen_monomials:\n",
    "                continue\n",
    "            # Now create a truncated version of 1/(1-monomial)=1 + monomial + monomial ^ 2 + ...\n",
    "            monomial_power = 1\n",
    "            total = 0\n",
    "            for _ in range(0, n+1, degree):\n",
    "                total += monomial_power\n",
    "                monomial_power *= monomial\n",
    "            product *= total\n",
    "            seen_monomials.add(monomial)\n",
    "            product = truncate(product, n)\n",
    "    \n",
    "    return product"
   ]
  },
  {
   "cell_type": "code",
   "execution_count": 10,
   "id": "8aa64597-efca-41d1-aea9-a3e591d5667b",
   "metadata": {},
   "outputs": [],
   "source": [
    "def symmetric_poly_to_poly(poly, n):\n",
    "    poly = poly.expand(n)\n",
    "    # There is weird behaviour in Sage where this returns a polynomial with just one term, which itself is a symbolic term containing the whole thing\n",
    "    poly = list(poly.monomial_coefficients().values())\n",
    "    assert len(poly) == 1\n",
    "    return polynomial(poly[0], CC)"
   ]
  },
  {
   "cell_type": "code",
   "execution_count": 11,
   "id": "b8e2e40b-99c6-4d36-b5f1-68dca4c8a3c9",
   "metadata": {},
   "outputs": [
    {
     "name": "stdout",
     "output_type": "stream",
     "text": [
      "(3.00000000000000 - 1.85037170770859e-17*I)*x0^3 + (4.00000000000000 + 3.70074341541719e-17*I)*x0^2*x1 + (4.00000000000000 + 3.70074341541719e-17*I)*x0*x1^2 + (3.00000000000000 - 1.85037170770859e-17*I)*x1^3 + (4.00000000000000 + 3.70074341541719e-17*I)*x0^2*x2 + (5.00000000000000 + 3.70074341541719e-17*I)*x0*x1*x2 + (4.00000000000000 + 3.70074341541719e-17*I)*x1^2*x2 + (4.00000000000000 + 3.70074341541719e-17*I)*x0*x2^2 + (4.00000000000000 + 3.70074341541719e-17*I)*x1*x2^2 + (3.00000000000000 - 1.85037170770859e-17*I)*x2^3 + 2.00000000000000*x0^2 + 2.00000000000000*x0*x1 + 2.00000000000000*x1^2 + 2.00000000000000*x0*x2 + 2.00000000000000*x1*x2 + 2.00000000000000*x2^2 + x0 + x1 + x2 + 1.00000000000000\n",
      "3.00000000000000*x0^3 + 4.00000000000000*x0^2*x1 + 4.00000000000000*x0*x1^2 + 3.00000000000000*x1^3 + 4.00000000000000*x0^2*x2 + 5.00000000000000*x0*x1*x2 + 4.00000000000000*x1^2*x2 + 4.00000000000000*x0*x2^2 + 4.00000000000000*x1*x2^2 + 3.00000000000000*x2^3 + 2.00000000000000*x0^2 + 2.00000000000000*x0*x1 + 2.00000000000000*x1^2 + 2.00000000000000*x0*x2 + 2.00000000000000*x1*x2 + 2.00000000000000*x2^2 + x0 + x1 + x2 + 1.00000000000000\n"
     ]
    }
   ],
   "source": [
    "n = 3\n",
    "l = 1\n",
    "\n",
    "explicit_result = symmetric_poly_to_poly(calculate_sigma_mgf_explicitly_mod_degree(n, l), n)\n",
    "print(explicit_result)\n",
    "\n",
    "formula_result = calculate_sigma_mgf_with_formula_mod_degree(n, l)\n",
    "print(formula_result)"
   ]
  },
  {
   "cell_type": "code",
   "execution_count": 12,
   "id": "b0bc77fc-2a5e-4b9d-9f74-fb4993e4c312",
   "metadata": {},
   "outputs": [
    {
     "name": "stdout",
     "output_type": "stream",
     "text": [
      "n: 1, l: 1\n",
      "n: 1, l: 2\n",
      "n: 1, l: 3\n",
      "n: 1, l: 4\n",
      "n: 2, l: 1\n",
      "n: 2, l: 2\n",
      "[] 1.00000000000000\n",
      "[] 1.00000000000000\n",
      "[] 1.00000000000000\n",
      "[] 1.00000000000000\n",
      "[] 1.00000000000000\n",
      "[] 1.00000000000000\n",
      "[] 1.00000000000000\n",
      "[] 1.00000000000000\n",
      "[1] 2.00000000000000\n",
      "[1] 0.000000000000000\n",
      "[1] 0.000000000000000\n",
      "[1] -2.00000000000000\n",
      "[1] 0.000000000000000\n",
      "[1] 2.00000000000000\n",
      "[1] -2.00000000000000\n",
      "[1] 0.000000000000000\n",
      "[2] 3.00000000000000\n",
      "[2] 1.00000000000000\n",
      "[2] 1.00000000000000\n",
      "[2] 3.00000000000000\n",
      "[2] 1.00000000000000\n",
      "[2] 3.00000000000000\n",
      "[2] 3.00000000000000\n",
      "[2] 1.00000000000000\n",
      "[1, 1] 4.00000000000000\n",
      "[1, 1] 0.000000000000000\n",
      "[1, 1] 0.000000000000000\n",
      "[1, 1] 4.00000000000000\n",
      "[1, 1] 0.000000000000000\n",
      "[1, 1] 4.00000000000000\n",
      "[1, 1] 4.00000000000000\n",
      "[1, 1] 0.000000000000000\n"
     ]
    },
    {
     "ename": "AssertionError",
     "evalue": "Difference of coefficient is 1.00000000000000 for explicit result 2.00000000000000*x0^2 + 2.00000000000000*x0*x1 + 2.00000000000000*x1^2 + 1.00000000000000 and predicted result x0^2 + x0*x1 + x1^2 + 1.00000000000000",
     "output_type": "error",
     "traceback": [
      "\u001b[31m---------------------------------------------------------------------------\u001b[39m",
      "\u001b[31mAssertionError\u001b[39m                            Traceback (most recent call last)",
      "\u001b[36mCell\u001b[39m\u001b[36m \u001b[39m\u001b[32mIn[12]\u001b[39m\u001b[32m, line 8\u001b[39m\n\u001b[32m      5\u001b[39m formula_result = truncate(calculate_sigma_mgf_with_formula_mod_degree(n, l), n)\n\u001b[32m      7\u001b[39m \u001b[38;5;28;01mfor\u001b[39;00m coef_diff \u001b[38;5;129;01min\u001b[39;00m (explicit_result - formula_result).monomial_coefficients().values():\n\u001b[32m----> \u001b[39m\u001b[32m8\u001b[39m     \u001b[38;5;28;01massert\u001b[39;00m \u001b[38;5;28mabs\u001b[39m(coef_diff) < RealNumber(\u001b[33m'\u001b[39m\u001b[33m0.000001\u001b[39m\u001b[33m'\u001b[39m), \u001b[33mf\u001b[39m\u001b[33m\"\u001b[39m\u001b[33mDifference of coefficient is \u001b[39m\u001b[38;5;132;01m{\u001b[39;00mcoef_diff\u001b[38;5;132;01m}\u001b[39;00m\u001b[33m for explicit result \u001b[39m\u001b[38;5;132;01m{\u001b[39;00mexplicit_result\u001b[38;5;132;01m}\u001b[39;00m\u001b[33m and predicted result \u001b[39m\u001b[38;5;132;01m{\u001b[39;00mformula_result\u001b[38;5;132;01m}\u001b[39;00m\u001b[33m\"\u001b[39m\n",
      "\u001b[31mAssertionError\u001b[39m: Difference of coefficient is 1.00000000000000 for explicit result 2.00000000000000*x0^2 + 2.00000000000000*x0*x1 + 2.00000000000000*x1^2 + 1.00000000000000 and predicted result x0^2 + x0*x1 + x1^2 + 1.00000000000000"
     ]
    }
   ],
   "source": [
    "for n in range(1, 5):\n",
    "    for l in range(1, 5):\n",
    "        print(f\"n: {n}, l: {l}\")\n",
    "        explicit_result = symmetric_poly_to_poly(calculate_sigma_mgf_explicitly_mod_degree(n, l), n)        \n",
    "        formula_result = truncate(calculate_sigma_mgf_with_formula_mod_degree(n, l), n)\n",
    "\n",
    "        for coef_diff in (explicit_result - formula_result).monomial_coefficients().values():\n",
    "            assert abs(coef_diff) < 0.000001, f\"Difference of coefficient is {coef_diff} for explicit result {explicit_result} and predicted result {formula_result}\""
   ]
  },
  {
   "cell_type": "code",
   "execution_count": null,
   "id": "5690954f-dc97-4ba6-b5c1-99c047bfa192",
   "metadata": {},
   "outputs": [],
   "source": []
  },
  {
   "cell_type": "code",
   "execution_count": null,
   "id": "595a193b-9656-4302-a936-0baa5365c0de",
   "metadata": {},
   "outputs": [],
   "source": []
  }
 ],
 "metadata": {
  "kernelspec": {
   "display_name": "SageMath 10.6",
   "language": "sage",
   "name": "sagemath"
  },
  "language_info": {
   "codemirror_mode": {
    "name": "ipython",
    "version": 3
   },
   "file_extension": ".py",
   "mimetype": "text/x-python",
   "name": "python",
   "nbconvert_exporter": "python",
   "pygments_lexer": "ipython3",
   "version": "3.12.11"
  }
 },
 "nbformat": 4,
 "nbformat_minor": 5
}
