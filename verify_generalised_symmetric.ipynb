{
 "cells": [
  {
   "cell_type": "code",
   "execution_count": 1,
   "id": "da875b11-1b0f-4314-99f3-82b4479ff086",
   "metadata": {},
   "outputs": [],
   "source": [
    "import numpy as np\n",
    "import itertools\n",
    "from sage.symbolic.expression_conversions import polynomial\n",
    "\n",
    "def calculate_sigma_mgf_explicitly_mod_degree(n, l):\n",
    "    # Find the eigenvalues of generalised permutations\n",
    "    eigenvalue_sets = []\n",
    "    for permutation in Permutations(n):\n",
    "        permutation_matrix = permutation.to_matrix()\n",
    "        for coefficients_z_mod_l in itertools.product(range(l), repeat=n):\n",
    "            coefficients = np.array([CDF(e^(2 * I * pi * c / l)) for c in coefficients_z_mod_l])\n",
    "            M = matrix(np.diag(coefficients)) * permutation_matrix\n",
    "            eigenvalue_sets.append(M.eigenvalues())\n",
    "    \n",
    "    Sym = SymmetricFunctions(CC)\n",
    "    m = Sym.m()\n",
    "    h = Sym.h()\n",
    "    total = 0\n",
    "    # Get the average for each partition, up to and including degree n\n",
    "    for degree in range(n+1):\n",
    "        for tau in Partitions(degree):\n",
    "            m_tau = m(tau)\n",
    "            h_tau_poly = h(tau).expand(n)\n",
    "            total_per_tau = 0\n",
    "            for eigenvalue_set in eigenvalue_sets:\n",
    "                total_per_tau += h_tau_poly(eigenvalue_set)\n",
    "            avg_per_tau = total_per_tau / len(eigenvalue_sets)\n",
    "            total += avg_per_tau * m_tau\n",
    "    return total"
   ]
  },
  {
   "cell_type": "code",
   "execution_count": 2,
   "id": "797cb5ba-2750-4e44-b139-35796eca3841",
   "metadata": {},
   "outputs": [],
   "source": [
    "# This extends the idea behind the truncate function on MPolynomial, but now truncating based on total degree\n",
    "def truncate(poly, n):\n",
    "    R = poly.parent()\n",
    "    \n",
    "    return R({key: coef for key, coef in poly.monomial_coefficients().items()\n",
    "              if sum(key) <= n})"
   ]
  },
  {
   "cell_type": "code",
   "execution_count": 3,
   "id": "e917bfee-6f5b-4ed9-a920-272f684bb97a",
   "metadata": {},
   "outputs": [],
   "source": [
    "def calculate_sigma_mgf_with_formula_mod_degree(n, l):\n",
    "    \n",
    "    # Polynomial ring in n polys\n",
    "    R = PolynomialRing(CC, n, \"x\")\n",
    "    variables = R.gens()\n",
    "\n",
    "    product = R(1)\n",
    "    for degree in range(l, n+1, l):\n",
    "        # TODO: there is probably a more effecient way to do this\n",
    "        # Consider all possible monomials of this degree\n",
    "        seen_monomials = set()\n",
    "        for selected_vars in itertools.combinations_with_replacement(variables, degree):\n",
    "            monomial = 1\n",
    "            for var in selected_vars:\n",
    "                monomial *= var\n",
    "            if monomial in seen_monomials:\n",
    "                continue\n",
    "            # Now create a truncated version of 1/(1-monomial)=1 + monomial + monomial ^ 2 + ...\n",
    "            monomial_power = 1\n",
    "            total = 0\n",
    "            for _ in range(0, n+1, degree):\n",
    "                total += monomial_power\n",
    "                monomial_power *= monomial\n",
    "            product *= total\n",
    "            seen_monomials.add(monomial)\n",
    "            product = truncate(product, n)\n",
    "    \n",
    "    return product"
   ]
  },
  {
   "cell_type": "code",
   "execution_count": 4,
   "id": "8aa64597-efca-41d1-aea9-a3e591d5667b",
   "metadata": {},
   "outputs": [],
   "source": [
    "def symmetric_poly_to_poly(poly, n):\n",
    "    poly = poly.expand(n)\n",
    "    return poly"
   ]
  },
  {
   "cell_type": "code",
   "execution_count": 5,
   "id": "b8e2e40b-99c6-4d36-b5f1-68dca4c8a3c9",
   "metadata": {},
   "outputs": [
    {
     "name": "stdout",
     "output_type": "stream",
     "text": [
      "(1.00000000000000 + 6.93889390390721e-18*I)*x0^2 + (1.00000000000000 + 1.38777878078144e-17*I)*x0*x1 + (1.00000000000000 + 6.93889390390721e-18*I)*x1^2 + (-7.63278329429795e-17 - 8.32667268468867e-17*I)*x0 + (-7.63278329429795e-17 - 8.32667268468867e-17*I)*x1 + 1.00000000000000\n",
      "x0^2 + x0*x1 + x1^2 + 1.00000000000000\n"
     ]
    }
   ],
   "source": [
    "n = 2\n",
    "l = 2\n",
    "\n",
    "explicit_result = symmetric_poly_to_poly(calculate_sigma_mgf_explicitly_mod_degree(n, l), n)\n",
    "print(explicit_result)\n",
    "\n",
    "formula_result = calculate_sigma_mgf_with_formula_mod_degree(n, l)\n",
    "print(formula_result)"
   ]
  },
  {
   "cell_type": "code",
   "execution_count": 6,
   "id": "b0bc77fc-2a5e-4b9d-9f74-fb4993e4c312",
   "metadata": {},
   "outputs": [
    {
     "name": "stdout",
     "output_type": "stream",
     "text": [
      "n: 1, l: 1\n",
      "n: 1, l: 2\n",
      "n: 1, l: 3\n",
      "n: 1, l: 4\n",
      "n: 1, l: 5\n",
      "n: 1, l: 6\n",
      "n: 2, l: 1\n",
      "n: 2, l: 2\n",
      "n: 2, l: 3\n",
      "n: 2, l: 4\n",
      "n: 3, l: 1\n",
      "n: 3, l: 2\n",
      "n: 4, l: 1\n",
      "n: 4, l: 2\n",
      "n: 5, l: 1\n",
      "n: 5, l: 2\n",
      "n: 6, l: 1\n",
      "n: 6, l: 2\n"
     ]
    }
   ],
   "source": [
    "for n in range(1, 7):\n",
    "    # Note: for some reason, for l=7, sage internals fall into an infinite loop\n",
    "    # also my code is very inefficient and so starts to run very slowly as n increases, so I will reduce l to combat that\n",
    "    for l in range(1, max(3, 9 - 2 * n)):\n",
    "        \n",
    "        explicit_result = symmetric_poly_to_poly(calculate_sigma_mgf_explicitly_mod_degree(n, l), n)        \n",
    "        formula_result = truncate(calculate_sigma_mgf_with_formula_mod_degree(n, l), n)\n",
    "        \n",
    "        for coef_diff in (explicit_result - formula_result).monomial_coefficients().values():\n",
    "            assert abs(coef_diff) < 0.000001, f\"Difference of coefficient is {coef_diff} for explicit result {explicit_result} and predicted result {formula_result}\"\n",
    "\n",
    "        print(f\"n: {n}, l: {l}\")"
   ]
  }
 ],
 "metadata": {
  "kernelspec": {
   "display_name": "SageMath 10.6",
   "language": "sage",
   "name": "sagemath"
  },
  "language_info": {
   "codemirror_mode": {
    "name": "ipython",
    "version": 3
   },
   "file_extension": ".py",
   "mimetype": "text/x-python",
   "name": "python",
   "nbconvert_exporter": "python",
   "pygments_lexer": "ipython3",
   "version": "3.12.11"
  }
 },
 "nbformat": 4,
 "nbformat_minor": 5
}
